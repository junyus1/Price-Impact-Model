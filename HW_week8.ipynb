{
 "cells": [
  {
   "cell_type": "markdown",
   "metadata": {},
   "source": [
    "Junyu Sui Js6130"
   ]
  },
  {
   "cell_type": "code",
   "execution_count": 1,
   "metadata": {},
   "outputs": [
    {
     "data": {
      "text/plain": [
       "date       time     id trade     mid      spread       vol         adv         \n",
       "-------------------------------------------------------------------------------\n",
       "2019.01.03 09:30:00 0  454071.8  91.715   0.001148717  0.000446367 1.122415e+08\n",
       "2019.01.03 09:30:10 0  -171833.3 91.72671 0.001072136  0.000446367 1.122415e+08\n",
       "2019.01.03 09:30:20 0  -301.2193 91.58853 7.658112e-05 0.000446367 1.122415e+08\n",
       "2019.01.03 09:30:30 0  -78884.65 91.65646 0.000612649  0.000446367 1.122415e+08\n",
       "2019.01.03 09:30:40 0  -24705.54 91.60259 0.0008423923 0.000446367 1.122415e+08\n",
       "2019.01.03 09:30:50 0  -92166.19 91.58385 0.0005871219 0.000446367 1.122415e+08\n",
       "2019.01.03 09:31:00 0  -22823.01 91.56276 0.000663703  0.000446367 1.122415e+08\n",
       "2019.01.03 09:31:10 0  -4940.182 91.59088 0.0005615949 0.000446367 1.122415e+08\n",
       "2019.01.03 09:31:20 0  -41691.88 91.59322 0.0005360678 0.000446367 1.122415e+08\n",
       "2019.01.03 09:31:30 0  -539826.4 91.60727 0.0007402842 0.000446367 1.122415e+08\n",
       "2019.01.03 09:31:40 0  -53883.89 91.5487  0.0004594867 0.000446367 1.122415e+08\n",
       "2019.01.03 09:31:50 0  316896.2  91.56745 0.0003063245 0.000446367 1.122415e+08\n",
       "2019.01.03 09:32:00 0  8767.784  91.82033 0.0004594867 0.000446367 1.122415e+08\n",
       "2019.01.03 09:32:10 0  132407.8  91.84138 0.000638176  0.000446367 1.122415e+08\n",
       "2019.01.03 09:32:20 0  -52051.64 92.02614 0.0005615949 0.000446367 1.122415e+08\n",
       "2019.01.03 09:32:30 0  441082.8  92.01445 0.0004339597 0.000446367 1.122415e+08\n",
       "2019.01.03 09:32:40 0  -182.6154 92.23874 0.000638176  0.000446367 1.122415e+08\n",
       "2019.01.03 09:32:50 0  4196.414  92.18269 0.0002807974 0.000446367 1.122415e+08\n",
       "2019.01.03 09:33:00 0  112899.5  92.36479 0.0007402842 0.000446367 1.122415e+08\n",
       "2019.01.03 09:33:10 0  -51038.96 92.27376 0.000612649  0.000446367 1.122415e+08\n",
       "..\n"
      ]
     },
     "execution_count": 1,
     "metadata": {},
     "output_type": "execute_result"
    }
   ],
   "source": [
    "/ load and clean data\n",
    "\n",
    "\\l /Users/suijunyu/Desktop/5440/columbiaHdb\n",
    "\n",
    "time: 2019.01.03\n",
    "tbl: select from bin10 where date = time\n",
    "tbl: select from bin10 where date = time;\n",
    "         tbl: update reverse fills reverse date,\n",
    "            reverse fills reverse mid,\n",
    "            reverse fills reverse spread,\n",
    "            reverse fills reverse vol,\n",
    "            reverse fills reverse adv\n",
    "            by id from tbl;\n",
    "tbl"
   ]
  },
  {
   "cell_type": "markdown",
   "metadata": {},
   "source": [
    "## EXERCISE 1：Creating Synthetic Trades\n",
    "\n",
    "### 1.1 1.2 1.3"
   ]
  },
  {
   "cell_type": "code",
   "execution_count": 2,
   "metadata": {},
   "outputs": [],
   "source": [
    "/1.1 TWAP return an array which each trade is average of total trade\n",
    "TWAP: {[trade; adv; size]\n",
    "        c: count trade;\n",
    "        :c#size % c}\n",
    "\n",
    "/1.2 VWAP return an array which the quantity of each trade depends on their propotion of total trade\n",
    "VWAP: {[trade; adv; size]\n",
    "        speed: abs trade % sum abs trade;\n",
    "        :speed * size}\n",
    "\n",
    "/1.3 \n",
    "/PoV return an array with trade depends on the when we stopped our trade(the point which satisfy participation rate)\n",
    "PoV: {[trade; adv; size]\n",
    "       t: 0.1 * abs trade; /set participation rate as 10%\n",
    "       num: (sum((+\\)t)<size);\n",
    "       order: (count trade)# 0.0;\n",
    "       (order til num): t til num; \n",
    "       (order num): size - sum order;\n",
    "       :order;}\n",
    "/ In order, the first num is the trade before stopping time, order[num] is how much which we still need to trade, \n",
    "/ other[num+1:] are zero.\n",
    "       "
   ]
  },
  {
   "cell_type": "markdown",
   "metadata": {},
   "source": [
    "### 1.4"
   ]
  },
  {
   "cell_type": "code",
   "execution_count": 3,
   "metadata": {},
   "outputs": [
    {
     "data": {
      "text/plain": [
       "time     id TWAP     VWAP     PoV     \n",
       "--------------------------------------\n",
       "09:30:00 0  427.1679 4045.49  45407.18\n",
       "09:30:10 0  427.1679 1530.925 17183.33\n",
       "09:30:20 0  427.1679 2.683672 30.12193\n",
       "09:30:30 0  427.1679 702.8119 7888.465\n",
       "09:30:40 0  427.1679 220.1106 2470.554\n",
       "09:30:50 0  427.1679 821.142  9216.619\n",
       "09:31:00 0  427.1679 203.3384 2282.301\n",
       "09:31:10 0  427.1679 44.01387 494.0182\n",
       "09:31:20 0  427.1679 371.448  4169.188\n",
       "09:31:30 0  427.1679 4809.508 53982.64\n",
       "09:31:40 0  427.1679 480.071  5388.389\n",
       "09:31:50 0  427.1679 2823.343 31689.62\n",
       "09:32:00 0  427.1679 78.11536 876.7784\n",
       "09:32:10 0  427.1679 1179.669 13240.78\n",
       "09:32:20 0  427.1679 463.7469 5205.164\n",
       "09:32:30 0  427.1679 3929.767 44108.28\n",
       "09:32:40 0  427.1679 1.626987 18.26154\n",
       "09:32:50 0  427.1679 37.38737 419.6414\n",
       "09:33:00 0  427.1679 1005.862 11289.95\n",
       "09:33:10 0  427.1679 454.7246 5103.896\n",
       "..\n"
      ]
     },
     "execution_count": 3,
     "metadata": {},
     "output_type": "execute_result"
    }
   ],
   "source": [
    "initial_size: 1000000\n",
    "\n",
    "/1.4 Implement three schedule for stock = 0 \n",
    "tbl0: select time, id,\n",
    "             TWAP: TWAP[trade;adv;initial_size],\n",
    "             VWAP: VWAP[trade;adv;initial_size],\n",
    "             PoV: PoV[trade;adv;initial_size]\n",
    "             from tbl where id = 0\n",
    "\n",
    "tbl0"
   ]
  },
  {
   "cell_type": "markdown",
   "metadata": {},
   "source": [
    "### 1.5"
   ]
  },
  {
   "cell_type": "code",
   "execution_count": 5,
   "metadata": {},
   "outputs": [
    {
     "data": {
      "text/plain": [
       "time     id TWAP     VWAP     PoV     \n",
       "--------------------------------------\n",
       "09:30:00 0  4794.596 45407.18 45407.18\n",
       "09:30:10 0  4794.596 17183.33 17183.33\n",
       "09:30:20 0  4794.596 30.12193 30.12193\n",
       "09:30:30 0  4794.596 7888.465 7888.465\n",
       "09:30:40 0  4794.596 2470.554 2470.554\n",
       "09:30:50 0  4794.596 9216.619 9216.619\n",
       "09:31:00 0  4794.596 2282.301 2282.301\n",
       "09:31:10 0  4794.596 494.0182 494.0182\n",
       "09:31:20 0  4794.596 4169.188 4169.188\n",
       "09:31:30 0  4794.596 53982.64 53982.64\n",
       "09:31:40 0  4794.596 5388.389 5388.389\n",
       "09:31:50 0  4794.596 31689.62 31689.62\n",
       "09:32:00 0  4794.596 876.7784 876.7784\n",
       "09:32:10 0  4794.596 13240.78 13240.78\n",
       "09:32:20 0  4794.596 5205.164 5205.164\n",
       "09:32:30 0  4794.596 44108.28 44108.28\n",
       "09:32:40 0  4794.596 18.26154 18.26154\n",
       "09:32:50 0  4794.596 419.6414 419.6414\n",
       "09:33:00 0  4794.596 11289.95 11289.95\n",
       "09:33:10 0  4794.596 5103.896 5103.896\n",
       "..\n"
      ]
     },
     "execution_count": 5,
     "metadata": {},
     "output_type": "execute_result"
    }
   ],
   "source": [
    "/1.5 Set size = 10% of adv, and implement three schedule for the same stock: id = 0\n",
    "tbl0_2: select time, id,\n",
    "             TWAP: TWAP[trade; adv; first 0.1*adv],\n",
    "             VWAP: VWAP[trade; adv; first 0.1*adv],\n",
    "             PoV: PoV[trade ; adv; first 0.1*adv]\n",
    "             from tbl where id = 0\n",
    "\n",
    "tbl0_2"
   ]
  },
  {
   "cell_type": "markdown",
   "metadata": {},
   "source": [
    "## EXERCISE 2 ：Backtesting Trading Schedules"
   ]
  },
  {
   "cell_type": "code",
   "execution_count": 6,
   "metadata": {},
   "outputs": [],
   "source": [
    "/lambda is 0.8 and h is 60\n",
    "h: 60\n",
    "computeImpact: {[trade; adv; vol; h] \n",
    "                beta: (log 2) % (h*6);\n",
    "                lamda: 0.8;\n",
    "                dvol: vol * sqrt 2340;\n",
    "                :(neg count trade)#ema[beta; (0, lamda * dvol * trade % (beta * adv))];}"
   ]
  },
  {
   "cell_type": "markdown",
   "metadata": {},
   "source": [
    "### 2.1 2.2  2.3"
   ]
  },
  {
   "cell_type": "code",
   "execution_count": 7,
   "metadata": {},
   "outputs": [],
   "source": [
    "/ Calculate the trade of three strategies\n",
    "order_tbl: update TWAP_10: TWAP[trade; adv; first 0.1*adv], \n",
    "                  TWAP_20: TWAP[trade; adv; first 0.2*adv], \n",
    "                  VWAP_10: VWAP[trade; adv; first 0.1*adv] by id from tbl\n",
    "\n",
    "/ Calculate the impact of three strategies\n",
    "impact_tbl: update I_TWAP_10: computeImpact[TWAP_10; adv; vol; h],\n",
    "                   I_TWAP_20: computeImpact[TWAP_20; adv; vol; h],\n",
    "                   I_VWAP_10: computeImpact[VWAP_10; adv; vol; h] by id from order_tbl\n",
    "\n",
    "/ Calculate the adj price of three strategies\n",
    "/ remove the impact of TWAP_10\n",
    "price_tbl: update adj_p: mid - I_TWAP_10,\n",
    "                  P_TWAP_10: mid by id from impact_tbl \n",
    "\n",
    "/ add the impact of TWAP_20 and VWAP_10\n",
    "price_tbl: update P_TWAP_20: adj_p + I_TWAP_20,\n",
    "                  P_VWAP_10: adj_p + I_VWAP_10 by id from price_tbl \n"
   ]
  },
  {
   "cell_type": "code",
   "execution_count": 8,
   "metadata": {},
   "outputs": [
    {
     "data": {
      "text/plain": [
       "time     id adj_p    P_TWAP_10 P_TWAP_20 P_VWAP_10\n",
       "--------------------------------------------------\n",
       "09:30:00 0  91.715   91.715    91.715    91.71501 \n",
       "09:30:10 0  91.7267  91.72671  91.72671  91.72671 \n",
       "09:30:20 0  91.58853 91.58853  91.58854  91.58854 \n",
       "09:30:30 0  91.65646 91.65646  91.65646  91.65647 \n",
       "09:30:40 0  91.60259 91.60259  91.60259  91.6026  \n",
       "09:30:50 0  91.58384 91.58385  91.58385  91.58386 \n",
       "09:31:00 0  91.56276 91.56276  91.56277  91.56277 \n",
       "09:31:10 0  91.59087 91.59088  91.59088  91.59088 \n",
       "09:31:20 0  91.59321 91.59322  91.59323  91.59323 \n",
       "09:31:30 0  91.60727 91.60727  91.60728  91.60729 \n",
       "09:31:40 0  91.5487  91.5487   91.54871  91.54872 \n",
       "09:31:50 0  91.56744 91.56745  91.56746  91.56747 \n",
       "09:32:00 0  91.82032 91.82033  91.82034  91.82034 \n",
       "09:32:10 0  91.84137 91.84138  91.8414   91.8414  \n",
       "09:32:20 0  92.02612 92.02614  92.02615  92.02615 \n",
       "09:32:30 0  92.01444 92.01445  92.01446  92.01447 \n",
       "09:32:40 0  92.23872 92.23874  92.23875  92.23876 \n",
       "09:32:50 0  92.18267 92.18269  92.1827   92.18271 \n",
       "09:33:00 0  92.36477 92.36479  92.3648   92.36481 \n",
       "09:33:10 0  92.27374 92.27376  92.27377  92.27378 \n",
       "..\n"
      ]
     },
     "execution_count": 8,
     "metadata": {},
     "output_type": "execute_result"
    }
   ],
   "source": [
    "select time, id, adj_p, P_TWAP_10, P_TWAP_20, P_VWAP_10 from price_tbl"
   ]
  },
  {
   "cell_type": "markdown",
   "metadata": {},
   "source": [
    "### 2.4"
   ]
  },
  {
   "cell_type": "markdown",
   "metadata": {},
   "source": [
    "Average impact costs (IC): for each stock,\n",
    "$$ \n",
    "\\begin{align}\n",
    "Impact Cost &= \\sum_{N} (P_{n-1} + 1/2\\Delta_{n}I - S_{n-1}) * \\Delta_nQ\\\\\n",
    "            &= \\sum_{N} (I_{n-1} + 1/2\\Delta_{n}I) * \\Delta_nQ\\\\\n",
    "            &= \\sum_{N} (I_{n} - 1/2\\Delta_{n}I) * \\Delta_nQ\n",
    "\\end{align}\n",
    "$$\n",
    "Here dQ is trade: TWAP_10, TWAP_20, VWAP_10"
   ]
  },
  {
   "cell_type": "code",
   "execution_count": 10,
   "metadata": {},
   "outputs": [
    {
     "data": {
      "text/plain": [
       "id| IC_TWAP_10 IC_TWAP_20 IC_VWAP_10\n",
       "--| --------------------------------\n",
       "0 | 3358.556   13434.22   3348.143  \n",
       "1 | 866.2969   3465.188   816.4247  \n",
       "2 | 448.7954   1795.182   445.82    \n",
       "3 | 373.1717   1492.687   371.5399  \n",
       "4 | 495.8016   1983.206   495.4129  \n",
       "5 | 274.6778   1098.711   271.5745  \n",
       "6 | 570.7353   2282.941   547.8297  \n",
       "7 | 280.9141   1123.656   273.6042  \n",
       "8 | 1734.307   6937.226   1727.165  \n",
       "9 | 832.5135   3330.054   801.4711  \n",
       "10| 4133.659   16534.64   4031.517  \n",
       "11| 1504.23    6016.919   1472.007  \n",
       "12| 768.962    3075.848   748.9827  \n",
       "13| 492.3011   1969.204   506.1516  \n",
       "14| 33873.33   135493.3   32622.74  \n",
       "15| 1823.753   7295.013   1799.466  \n",
       "16| 12035.47   48141.88   11392.23  \n",
       "17| 370.1577   1480.631   344.0359  \n",
       "18| 374.242    1496.968   384.276   \n",
       "19| 3325.974   13303.9    3298.074  \n",
       "..\n"
      ]
     },
     "execution_count": 10,
     "metadata": {},
     "output_type": "execute_result"
    }
   ],
   "source": [
    "IC_tbl: update IC_TWAP_10: sum (I_TWAP_10 - 0.5 * deltas I_TWAP_10) * TWAP_10,\n",
    "               IC_TWAP_20: sum (I_TWAP_20 - 0.5 * deltas I_TWAP_20) * TWAP_20,\n",
    "               IC_VWAP_10: sum (I_VWAP_10 - 0.5 * deltas I_VWAP_10) * VWAP_10 \n",
    "               by id from price_tbl\n",
    "\n",
    "select first IC_TWAP_10, first IC_TWAP_20, first IC_VWAP_10 by id from IC_tbl"
   ]
  },
  {
   "cell_type": "code",
   "execution_count": 10,
   "metadata": {},
   "outputs": [
    {
     "data": {
      "text/plain": [
       "IC_TWAP_10 IC_TWAP_20 IC_VWAP_10\n",
       "--------------------------------\n",
       "1260.103   5040.413   1223.051  \n"
      ]
     },
     "execution_count": 10,
     "metadata": {},
     "output_type": "execute_result"
    }
   ],
   "source": [
    "/Calculate the average Impact Cost across all stock universie for each strategy\n",
    "IC: select avg IC_TWAP_10, avg IC_TWAP_20, avg IC_VWAP_10 from IC_tbl\n",
    "IC"
   ]
  },
  {
   "cell_type": "markdown",
   "metadata": {},
   "source": [
    "### 2.5\n",
    "\n",
    "P&L for each stock follows wealth equation: \n",
    "$$ \n",
    "\\begin{align}\n",
    "PL &= \\sum_{N} Q_{n-1}\\Delta_n S - (P_{n-1} + 1/2\\Delta_{n}I - S_{n-1}) * Q\\\\\n",
    "   &= -IC + \\sum_{N} Q_{n-1}\\Delta_n S\\\\\n",
    "\\end{align}\n",
    "$$\n",
    "Here S is adj_price and Q is trade: TWAP_10, TWAP_20, VWAP_10\n",
    "\n"
   ]
  },
  {
   "cell_type": "code",
   "execution_count": 11,
   "metadata": {},
   "outputs": [
    {
     "data": {
      "text/plain": [
       "id| PL_TWAP_10    PL_TWAP_20    PL_VWAP_10    adv          adj_p  \n",
       "--| --------------------------------------------------------------\n",
       "0 | -7891535      -1.578979e+07 -9268189      1.122415e+08 91.715 \n",
       "1 | -1992323      -3986378      -2401699      3.607207e+07 71.075 \n",
       "2 | -304490.5     -609878.5     -247643.7     1.38682e+07  44.15  \n",
       "3 | -201442.2     -403630.8     -201335.8     1.192783e+07 60.55  \n",
       "4 | -72147.09     -145285.8     -111040.9     2.019054e+07 51.07  \n",
       "5 | -106998.6     -214546.5     -96305.88     7931115      89.26  \n",
       "6 | -610545.8     -1222233      -623465       1.790894e+07 74.11  \n",
       "7 | -54423.89     -109409.6     -53741.18     9922401      14.66  \n",
       "8 | -6.499172e+07 -1.299869e+08 -5.097454e+07 3.452761e+07 835.68 \n",
       "9 | -1511281      -3024226      -1413493      1.862319e+07 51.455 \n",
       "10| -4.825846e+07 -9.652518e+07 -4.355535e+07 8.626539e+07 305.49 \n",
       "11| -5347013      -1.069703e+07 -4866449      5.807214e+07 108.3  \n",
       "12| -948049.9     -1897638      -774795.9     2.996236e+07 67.015 \n",
       "13| -1517818      -3036621      -1198468      1.538175e+07 66.1   \n",
       "14| -8.026742e+07 -1.606026e+08 -7.925849e+07 9.883369e+08 143.965\n",
       "15| -1177120      -2357887      -1107397      7.305665e+07 29.505 \n",
       "16| -4408824      -8841719      -3945615      1.933401e+08 18.37  \n",
       "17| -361639       -724018.3     -333231.9     8571269      17.625 \n",
       "18| -317909.6     -636567.8     -280734.7     8691514      32.785 \n",
       "19| -3675434      -7357519      -3352388      1.143187e+08 42.345 \n",
       "..\n"
      ]
     },
     "execution_count": 11,
     "metadata": {},
     "output_type": "execute_result"
    }
   ],
   "source": [
    "PL_tbl: select PL_TWAP_10: (neg last IC_TWAP_10) + sum (1 xprev sums TWAP_10) * (deltas adj_p), \n",
    "               PL_TWAP_20: (neg last IC_TWAP_20) + sum (1 xprev sums TWAP_20) * (deltas adj_p), \n",
    "               PL_VWAP_10: (neg last IC_VWAP_10) + sum (1 xprev sums VWAP_10) * (deltas adj_p), last adv, first adj_p \n",
    "            by id from IC_tbl\n",
    "\n",
    "PL_tbl"
   ]
  },
  {
   "cell_type": "code",
   "execution_count": 12,
   "metadata": {
    "scrolled": true
   },
   "outputs": [
    {
     "data": {
      "text/plain": [
       "PL1           PL2           PL3          \n",
       "-----------------------------------------\n",
       "-5.030089e+09 -1.006144e+10 -4.532838e+09\n"
      ]
     },
     "execution_count": 12,
     "metadata": {},
     "output_type": "execute_result"
    }
   ],
   "source": [
    "/Compare three strategy\n",
    "PL_tbl2: select PL1: sum PL_TWAP_10,\n",
    "                PL2: sum PL_TWAP_20,\n",
    "                PL3: sum PL_VWAP_10 from PL_tbl\n",
    "PL_tbl2"
   ]
  },
  {
   "cell_type": "markdown",
   "metadata": {},
   "source": [
    "### Simple Comparison with buying all shares in the begining with adj_p"
   ]
  },
  {
   "cell_type": "code",
   "execution_count": 13,
   "metadata": {},
   "outputs": [
    {
     "data": {
      "text/plain": [
       "id| PL1           PL2           PL3         \n",
       "--| ----------------------------------------\n",
       "0 | -0.00766598   -0.007669243  -0.009003287\n",
       "1 | -0.007770908  -0.007774287  -0.009367653\n",
       "2 | -0.004973051  -0.004980381  -0.004044609\n",
       "3 | -0.002789169  -0.002794336  -0.002787695\n",
       "4 | -0.0006996889 -0.0007044973 -0.001076885\n",
       "5 | -0.001511426  -0.001515306  -0.001360385\n",
       "6 | -0.004600146  -0.004604446  -0.004697485\n",
       "7 | -0.00374144   -0.003760752  -0.003694507\n",
       "8 | -0.02252431   -0.02252491   -0.01766635 \n",
       "9 | -0.01577115   -0.01577984   -0.01475068 \n",
       "10| -0.01831217   -0.01831374   -0.01652753 \n",
       "11| -0.008501881  -0.008504272  -0.007737772\n",
       "12| -0.004721535  -0.004725365  -0.003858685\n",
       "13| -0.01492837   -0.01493322   -0.01178743 \n",
       "14| -0.005641276  -0.005643657  -0.005570367\n",
       "15| -0.005460913  -0.005469374  -0.005137453\n",
       "16| -0.01241343   -0.01244731   -0.01110922 \n",
       "17| -0.02393872   -0.02396323   -0.02205831 \n",
       "18| -0.01115663   -0.01116976   -0.009852023\n",
       "19| -0.00759258   -0.00759945   -0.006925243\n",
       "..\n"
      ]
     },
     "execution_count": 13,
     "metadata": {},
     "output_type": "execute_result"
    }
   ],
   "source": [
    "/Compare strategy with buying all shares in the begining with adj_p for each stock\n",
    "PL: select PL1: PL_TWAP_10 % (0.1*adv*adj_p),\n",
    "           PL2: PL_TWAP_20 % (0.2*adv*adj_p),\n",
    "           PL3: PL_VWAP_10 % (0.1*adv*adj_p) by id from PL_tbl\n",
    "\n",
    "PL"
   ]
  },
  {
   "cell_type": "code",
   "execution_count": 14,
   "metadata": {},
   "outputs": [
    {
     "data": {
      "text/plain": [
       "PL1         PL2         PL3        \n",
       "-----------------------------------\n",
       "-0.01188275 -0.01188425 -0.01070808\n"
      ]
     },
     "execution_count": 14,
     "metadata": {},
     "output_type": "execute_result"
    }
   ],
   "source": [
    "PL2: select PL1: sum PL_TWAP_10 % sum(0.1*adv*adj_p),\n",
    "           PL2: sum PL_TWAP_20 % sum (0.2*adv*adj_p),\n",
    "           PL3: sum PL_VWAP_10 % sum (0.1*adv*adj_p) from PL_tbl\n",
    "\n",
    "PL2"
   ]
  },
  {
   "cell_type": "code",
   "execution_count": null,
   "metadata": {},
   "outputs": [],
   "source": []
  },
  {
   "cell_type": "markdown",
   "metadata": {},
   "source": [
    "# TRADE: DOLLAR"
   ]
  },
  {
   "cell_type": "code",
   "execution_count": 11,
   "metadata": {},
   "outputs": [
    {
     "data": {
      "text/plain": [
       "share_TWAP_10 share_TWAP_20 share_VWAP_10\n",
       "-----------------------------------------\n",
       "52.27712      52.27712      52.27712     \n",
       "52.27045      52.27045      52.27045     \n",
       "52.3493       52.3493       52.3493      \n",
       "52.31051      52.31051      52.31051     \n",
       "52.34127      52.34127      52.34127     \n",
       "52.35198      52.35198      52.35198     \n",
       "52.36404      52.36404      52.36404     \n",
       "52.34797      52.34797      52.34797     \n",
       "52.34663      52.34663      52.34663     \n",
       "52.3386       52.3386       52.3386      \n",
       "52.37208      52.37208      52.37208     \n",
       "52.36136      52.36136      52.36136     \n",
       "52.21716      52.21716      52.21716     \n",
       "52.20518      52.20518      52.20518     \n",
       "52.10038      52.10038      52.10038     \n",
       "52.10699      52.10699      52.10699     \n",
       "51.98029      51.98029      51.98029     \n",
       "52.0119       52.0119       52.0119      \n",
       "51.90935      51.90935      51.90935     \n",
       "51.96056      51.96056      51.96056     \n",
       "..\n"
      ]
     },
     "execution_count": 11,
     "metadata": {},
     "output_type": "execute_result"
    }
   ],
   "source": [
    "shares_tbl: update \n",
    "               share_TWAP_10: TWAP_10 % adj_p, \n",
    "               share_TWAP_20: TWAP_10 % adj_p, \n",
    "               share_VWAP_10: TWAP_10 % adj_p\n",
    "            from IC_tbl\n",
    "\n",
    "select share_TWAP_10, share_TWAP_20, share_VWAP_10 from shares_tbl"
   ]
  },
  {
   "cell_type": "code",
   "execution_count": 16,
   "metadata": {},
   "outputs": [],
   "source": [
    "PL_tbl222: select \n",
    "               PL_TWAP_10: (neg last IC_TWAP_10) + sum (1 xprev sums share_TWAP_10) * (deltas adj_p), \n",
    "               PL_TWAP_20: (neg last IC_TWAP_20) + sum (1 xprev sums share_TWAP_20) * (deltas adj_p), \n",
    "               PL_VWAP_10: (neg last IC_VWAP_10) + sum (1 xprev sums share_VWAP_10) * (deltas adj_p), \n",
    "               last adv, first adj_p \n",
    "            by id from shares_tbl\n",
    "\n",
    "PL_tbl222: update p_1: PL_TWAP_10 % (0.1*adv),\n",
    "                  p_2: PL_TWAP_20 % (0.2*adv),\n",
    "                  p_3: PL_VWAP_10 % (0.1*adv) from PL_tbl222\n",
    "select id, p_1, p_2, p_3 from PL_tbl222"
   ]
  },
  {
   "cell_type": "code",
   "execution_count": 21,
   "metadata": {},
   "outputs": [
    {
     "data": {
      "text/plain": [
       "p1_t         p2_t         p3_t        \n",
       "--------------------------------------\n",
       "-0.008754062 -0.004905382 -0.008743705\n"
      ]
     },
     "execution_count": 21,
     "metadata": {},
     "output_type": "execute_result"
    }
   ],
   "source": [
    "PL_tbl222_total: select p1_t: sum PL_TWAP_10 %(0.1* sum adv),\n",
    "                       p2_t: sum PL_TWAP_20 %(0.2* sum adv),\n",
    "                       p3_t: sum PL_VWAP_10 %(0.1* sum adv) from PL_tbl222\n",
    "PL_tbl222_total"
   ]
  },
  {
   "cell_type": "code",
   "execution_count": null,
   "metadata": {},
   "outputs": [],
   "source": []
  }
 ],
 "metadata": {
  "kernelspec": {
   "display_name": "Q (kdb+)",
   "language": "q",
   "name": "qpk"
  },
  "language_info": {
   "file_extension": ".q",
   "mimetype": "text/x-q",
   "name": "q",
   "version": "4.0"
  }
 },
 "nbformat": 4,
 "nbformat_minor": 4
}
