{
 "cells": [
  {
   "cell_type": "markdown",
   "metadata": {},
   "source": [
    "### Junyu Sui, JS6130"
   ]
  },
  {
   "cell_type": "markdown",
   "metadata": {},
   "source": [
    "## Q1\n",
    "### 1.1"
   ]
  },
  {
   "cell_type": "markdown",
   "metadata": {},
   "source": [
    "\\begin{aligned}\n",
    "&\\alpha_t=a\\left(R_t-R_T\\right)+b\\left(W_t-W_T\\right)\\\\\n",
    "&\\begin{gathered}\n",
    "&b=\\rho_2 \\sqrt{1-\\rho_2^2}\n",
    "&\\rho_2 =0.3\\\\\n",
    "&a=\\frac{\\rho b}{\\sqrt{1-\\rho^2}}, \\forall \\rho\n",
    "\\end{gathered}\n",
    "\\end{aligned}"
   ]
  },
  {
   "cell_type": "code",
   "execution_count": 1,
   "metadata": {},
   "outputs": [],
   "source": [
    "\\l /Users/suijunyu/Desktop/5440/columbiaHdb\n",
    "\n",
    "time: 2019.01.03\n",
    "raw: select from bin10 where date = time\n",
    "raw: update reverse fills reverse date,\n",
    "            reverse fills reverse mid,\n",
    "            reverse fills reverse spread,\n",
    "            reverse fills reverse vol,\n",
    "            reverse fills reverse adv\n",
    "            by id from raw;\n",
    "\\S 69 / set a random seed \n",
    "/ compute the return\n",
    "raw: update R: (neg 1) + (last mid) % mid by id from raw\n",
    "/ compute the volatility of return\n",
    "deltas0:{first[x]-':x}\n",
    "raw: update vol_R: sqrt var deltas0 R by id from raw\n",
    "/compute the W(wiener process)\n",
    "u12 : {[ n ] -6f + sum n cut (12* n ) ?1f }\n",
    "raw: update W: vol_R * (0, sums u12[(count vol_R) - 1])  by id from raw\n",
    "/duplicate the tbl with different rho, strat name\n",
    "raw: raw cross ([]rho: 0, .05, .3; []name: 0, 1, 2)\n",
    "/create alpha based on the formula\n",
    "createAlpha:{[rho; R; W]\n",
    "            b: 0.3 * sqrt(1 - 0.09);\n",
    "            a: (rho * b) % sqrt(1 - rho * rho);\n",
    "            alpha: (a * (R - last R)) + (b * (W - last W));\n",
    "            :alpha}\n",
    "\n",
    "tbl: update alpha: createAlpha[rho;R; W] by id, rho from raw"
   ]
  },
  {
   "cell_type": "code",
   "execution_count": 2,
   "metadata": {},
   "outputs": [
    {
     "data": {
      "text/plain": [
       "time     id R           W             rho  name alpha       \n",
       "------------------------------------------------------------\n",
       "09:30:00 0  -0.02958659 0             0    0    -0.004360113\n",
       "09:30:00 0  -0.02958659 0             0.05 1    -0.004784   \n",
       "09:30:00 0  -0.02958659 0             0.3  2    -0.007022906\n",
       "09:30:10 0  -0.02971043 0.0003646641  0    0    -0.004255752\n",
       "09:30:10 0  -0.02971043 0.0003646641  0.05 1    -0.004681414\n",
       "09:30:10 0  -0.02971043 0.0003646641  0.3  2    -0.006929691\n",
       "09:30:20 0  -0.02824664 -1.006247e-05 0    0    -0.004362992\n",
       "09:30:20 0  -0.02824664 -1.006247e-05 0.05 1    -0.004767682\n",
       "09:30:20 0  -0.02824664 -1.006247e-05 0.3  2    -0.00690519 \n",
       "09:30:30 0  -0.02896681 1.652537e-06  0    0    -0.00435964 \n",
       "09:30:30 0  -0.02896681 1.652537e-06  0.05 1    -0.004774647\n",
       "09:30:30 0  -0.02896681 1.652537e-06  0.3  2    -0.006966653\n",
       "09:30:40 0  -0.02839575 2.751703e-05  0    0    -0.004352238\n",
       "09:30:40 0  -0.02839575 2.751703e-05  0.05 1    -0.004759064\n",
       "09:30:40 0  -0.02839575 2.751703e-05  0.3  2    -0.006907855\n",
       "09:30:50 0  -0.02819692 -0.0007244092 0    0    -0.004567425\n",
       "09:30:50 0  -0.02819692 -0.0007244092 0.05 1    -0.004971403\n",
       "09:30:50 0  -0.02819692 -0.0007244092 0.3  2    -0.007105148\n",
       "09:31:00 0  -0.02797313 -0.0002833162 0    0    -0.004441193\n",
       "09:31:00 0  -0.02797313 -0.0002833162 0.05 1    -0.004841964\n",
       "..\n"
      ]
     },
     "execution_count": 2,
     "metadata": {},
     "output_type": "execute_result"
    }
   ],
   "source": [
    "select time, id, R, W, rho, name, alpha from tbl"
   ]
  },
  {
   "cell_type": "markdown",
   "metadata": {},
   "source": [
    "### 1.2"
   ]
  },
  {
   "cell_type": "markdown",
   "metadata": {},
   "source": [
    "The target impact state is given by:\n",
    "$$\n",
    "I_t=\\frac{1}{2}\\left(\\alpha_t-\\beta^{-1} \\alpha_t^{\\prime}\\right)\n",
    "$$"
   ]
  },
  {
   "cell_type": "markdown",
   "metadata": {},
   "source": [
    "The equation of dQ is :\n",
    "\n",
    "\\begin{aligned}\n",
    "&d Q=\\frac{a d v}{0.8 v o l}\\left(\\beta I_t d t+d I_t\\right)=\\frac{1}{\\lambda}\\left(\\beta I_t d t+d I_t\\right)\\\\\n",
    "&I_t^{-}=e^{-\\beta *dt} I_{t-1}\\\\\n",
    "&d Q_t=\\frac{1}{\\lambda}\\left(I_t-I_{t-}\\right)\n",
    "\\end{aligned}"
   ]
  },
  {
   "cell_type": "code",
   "execution_count": 43,
   "metadata": {},
   "outputs": [
    {
     "data": {
      "text/plain": [
       "id rho | dQ                                                                  ..\n",
       "-------| --------------------------------------------------------------------..\n",
       "0  0   |  31180.55  -37500.53 -1637.383 -319.7112 -72631.71 38157.12  18785.9..\n",
       "0  0.05|  30339.22  -30953.07 -5242.451 2079.042  -71960.49 38946.36  17146.6..\n",
       "0  0.3 |  25895.41  3629.593  -24283.85 14748.87  -68415.21 43115.02  8488.28..\n",
       "1  0   |  -2592.96  -32360.77 7269.736  -718.0847 -8553.39  8082.491  7985.64..\n",
       "1  0.05|  811.3753  -32383.08 8302.964  -1996.142 -7642.206 8794.184  10046.7..\n",
       "1  0.3 |  18792.54  -32500.94 13760.32  -8746.639 -2829.475 12553.24  20933.1..\n",
       "2  0   |  -861.8352 604.4058  -10582.17 747.8175  13.49982  -1055.137 2674.06..\n",
       "2  0.05|  -883.2312 583.0098  -10603.57 726.4216  -7.896151 -1076.533 2652.67..\n",
       "2  0.3 |  -996.2413 469.9997  -10716.58 613.4115  -120.9063 -1189.543 2539.66..\n",
       "3  0   |  -2091.29  -1959.907 -3267.49  -5653.909 6323.162  -9277.454 2629.28..\n",
       "3  0.05|  -2083.699 -1621.963 -3479.556 -5646.106 6330.965  -10345.8  2635.01..\n",
       "3  0.3 |  -2043.605 163.0067  -4599.657 -5604.894 6372.177  -15988.65 2665.29..\n",
       "4  0   |  142.6925  5115.485  -9419.263 -1727.364 -8138.945 -10711.79 -865.82..\n",
       "4  0.05|  152.5561  5125.348  -9409.4   -1717.5   -7682.29  -11715.88 -857.05..\n",
       "4  0.3 |  204.654   5177.446  -9357.302 -1665.402 -5270.314 -17019.36 -810.72..\n",
       "5  0   |  1409.605  -1108.64  5509.947  -889.3191 1694.157  3344.168  -562.28..\n",
       "5  0.05|  1409.34   -1108.906 5509.681  -723.8773 1777.125  3344.38   -562.06..\n",
       "5  0.3 |  1407.937  -1110.309 5508.278  149.9605  2215.348  3345.503  -560.94..\n",
       "6  0   |  2263.671  1781.629  -1486.07  -7864.561 -5214.807 7326.009  12533.4..\n",
       "6  0.05|  2253.759  1771.717  -1495.982 -7874.474 -5224.719 7316.097  12523.5..\n",
       "..\n"
      ]
     },
     "execution_count": 43,
     "metadata": {},
     "output_type": "execute_result"
    }
   ],
   "source": [
    "/update the alpha prime\n",
    "tbl: update alpha_2: 0^((alpha - xprev[60; alpha]) % 10) by id, rho from tbl\n",
    "\n",
    "/lambda is 8 and h is 60\n",
    "h: 60\n",
    "beta: (log 2) % h\n",
    "dt:1%6; / dt = 1/6 min\n",
    "/update Impact and I-\n",
    "computeImpact: {[alpha; alpha_2] \n",
    "                :0.5 * (alpha - alpha_2 % beta)}\n",
    "tbl_impact: update I: computeImpact[alpha; alpha_2] by id, rho from tbl\n",
    "tbl_impact: update I_p:  (1 xprev I) * (exp neg beta*dt) by id, rho from tbl_impact\n",
    "\n",
    "computeTrade: {[adv; vol; I; I_p]\n",
    "                dv: vol * sqrt 2340;\n",
    "                lam: 8 * dv % adv;\n",
    "                : (I - I_p) % lam}\n",
    "\n",
    "tbl_dQ: update dQ: computeTrade[adv; vol; I; I_p] by id, rho from tbl_impact\n",
    "\n",
    "select  dQ by id, rho from tbl_dQ"
   ]
  },
  {
   "cell_type": "code",
   "execution_count": 4,
   "metadata": {},
   "outputs": [
    {
     "data": {
      "text/plain": [
       "id name ratio       alpha       \n",
       "--------------------------------\n",
       "0  0    -0.06331212 -0.004360113\n",
       "0  1    -0.06559829 -0.004784   \n",
       "0  2    -0.07767348 -0.007022906\n",
       "1  0    -0.05619257 -0.004225025\n",
       "1  1    -0.0597229  -0.004665212\n",
       "1  2    -0.07836959 -0.006990209\n",
       "2  0    0.0388927   0.008589024 \n",
       "2  1    0.03711505  0.008289345 \n",
       "2  2    0.02772579  0.006706489 \n",
       "3  0    0.06784427  0.01235294  \n",
       "3  1    0.0661831   0.01247244  \n",
       "3  2    0.05740907  0.01310366  \n",
       "4  0    0.04856568  0.0007707228\n",
       "4  1    0.04751007  0.0008427279\n",
       "4  2    0.04193451  0.001223047 \n",
       "5  0    0.06527045  0.0007910923\n",
       "5  1    0.0637951   0.0007841308\n",
       "5  2    0.05600254  0.0007473614\n",
       "6  0    0.01315992  -0.001177255\n",
       "6  1    0.01177446  -0.001283126\n",
       "..\n"
      ]
     },
     "execution_count": 4,
     "metadata": {},
     "output_type": "execute_result"
    }
   ],
   "source": [
    "/show the ratio and first alpha\n",
    "tbl_pic: select ratio: sum dQ % last adv, first alpha by id, name from tbl_dQ\n",
    "tbl_pic:0!tbl_pic\n",
    "tbl_pic"
   ]
  },
  {
   "cell_type": "markdown",
   "metadata": {},
   "source": [
    "### 1.3"
   ]
  },
  {
   "cell_type": "code",
   "execution_count": 5,
   "metadata": {},
   "outputs": [
    {
     "data": {
      "text/plain": [
       "date       time     id selected_strat indicator trade     mid      spread    ..\n",
       "-----------------------------------------------------------------------------..\n",
       "2019.01.03 09:30:00 0  2              0         454071.8  91.715   0.00114871..\n",
       "2019.01.03 09:30:10 0  2              0         -171833.3 91.72671 0.00107213..\n",
       "2019.01.03 09:30:20 0  2              0         -301.2193 91.58853 7.658112e-..\n",
       "2019.01.03 09:30:30 0  2              0         -78884.65 91.65646 0.00061264..\n",
       "2019.01.03 09:30:40 0  2              0         -24705.54 91.60259 0.00084239..\n",
       "2019.01.03 09:30:50 0  2              0         -92166.19 91.58385 0.00058712..\n",
       "2019.01.03 09:31:00 0  2              0         -22823.01 91.56276 0.00066370..\n",
       "2019.01.03 09:31:10 0  2              0         -4940.182 91.59088 0.00056159..\n",
       "2019.01.03 09:31:20 0  2              0         -41691.88 91.59322 0.00053606..\n",
       "2019.01.03 09:31:30 0  2              0         -539826.4 91.60727 0.00074028..\n",
       "2019.01.03 09:31:40 0  2              0         -53883.89 91.5487  0.00045948..\n",
       "2019.01.03 09:31:50 0  2              0         316896.2  91.56745 0.00030632..\n",
       "2019.01.03 09:32:00 0  2              0         8767.784  91.82033 0.00045948..\n",
       "2019.01.03 09:32:10 0  2              0         132407.8  91.84138 0.00063817..\n",
       "2019.01.03 09:32:20 0  2              0         -52051.64 92.02614 0.00056159..\n",
       "2019.01.03 09:32:30 0  2              0         441082.8  92.01445 0.00043395..\n",
       "2019.01.03 09:32:40 0  2              0         -182.6154 92.23874 0.00063817..\n",
       "2019.01.03 09:32:50 0  2              0         4196.414  92.18269 0.00028079..\n",
       "2019.01.03 09:33:00 0  2              0         112899.5  92.36479 0.00074028..\n",
       "2019.01.03 09:33:10 0  2              0         -51038.96 92.27376 0.00061264..\n",
       "..\n"
      ]
     },
     "execution_count": 5,
     "metadata": {},
     "output_type": "execute_result"
    }
   ],
   "source": [
    "/ABtest function\n",
    "abTest:{[tbl; strat1; strat2; prob1]\n",
    "    /update the indicator which has prob1 to be 0 and 1-prob1 to be Yes 1\n",
    "    tbl2: update indicator: 9h$prob1 < 1?1f by id, date from tbl;\n",
    "    / Selected_strat means: p=prob1 is strat1 and p=1-prob1 is strat2\n",
    "    tbl2: update selected_strat: ((1-indicator) * strat1) + indicator*strat2 by id,date from tbl2;\n",
    "    / The table selects one strategy for each pair\n",
    "    tbl_selected: select from tbl2 where name = selected_strat;\n",
    "    tbl_selected: xcols [`date`time`id`selected_strat`indicator; tbl_selected]\n",
    "    }\n",
    "/here strat1 is name = 2, strat2 is name =0 and prob is 0.8\n",
    "tbl2: abTest[tbl_dQ; 2; 0; 0.8]\n",
    "tbl2"
   ]
  },
  {
   "cell_type": "code",
   "execution_count": 6,
   "metadata": {},
   "outputs": [
    {
     "data": {
      "text/plain": [
       "0.760479\n"
      ]
     },
     "execution_count": 6,
     "metadata": {},
     "output_type": "execute_result"
    }
   ],
   "source": [
    "/we can see that the probability of select strat1 is almost 80%\n",
    "num2: count select from tbl2 where selected_strat = 2\n",
    "num0: count select from tbl2 where selected_strat = 0\n",
    "num2 % (num2+num0) / almost 80%"
   ]
  },
  {
   "cell_type": "markdown",
   "metadata": {},
   "source": [
    "### 1.4"
   ]
  },
  {
   "cell_type": "code",
   "execution_count": 7,
   "metadata": {},
   "outputs": [
    {
     "data": {
      "text/plain": [
       "id| bucket\n",
       "--| ------\n",
       "0 | 0     \n",
       "1 | 0     \n",
       "2 | 1     \n",
       "3 | 1     \n",
       "4 | 0     \n",
       "5 | 1     \n",
       "6 | 1     \n",
       "7 | 0     \n",
       "8 | 2     \n",
       "9 | 2     \n",
       "10| 2     \n",
       "11| 0     \n",
       "12| 0     \n",
       "13| 1     \n",
       "14| 1     \n",
       "15| 0     \n",
       "16| 2     \n",
       "17| 2     \n",
       "18| 2     \n",
       "19| 0     \n",
       "..\n"
      ]
     },
     "execution_count": 7,
     "metadata": {},
     "output_type": "execute_result"
    }
   ],
   "source": [
    "/use xrank to split into three parts based on their vol in order\n",
    "/the group with smaller vol is bucket 0, medium is bucket 1, and large is bucket2\n",
    "tbl_bucket: update bucket: 3 xrank vol from tbl_dQ\n",
    "select first bucket by id from tbl_bucket"
   ]
  },
  {
   "cell_type": "code",
   "execution_count": 8,
   "metadata": {},
   "outputs": [
    {
     "data": {
      "text/plain": [
       "0.8323353\n"
      ]
     },
     "execution_count": 8,
     "metadata": {},
     "output_type": "execute_result"
    },
    {
     "data": {
      "text/plain": [
       "0.7844311\n"
      ]
     },
     "execution_count": 8,
     "metadata": {},
     "output_type": "execute_result"
    },
    {
     "data": {
      "text/plain": [
       "0.8023952\n"
      ]
     },
     "execution_count": 8,
     "metadata": {},
     "output_type": "execute_result"
    }
   ],
   "source": [
    "tbl_bucket_low: select from tbl_bucket where bucket = 0\n",
    "tbl_bucket_med: select from tbl_bucket where bucket = 1\n",
    "tbl_bucket_high:select from tbl_bucket where bucket = 2\n",
    "\n",
    "tbl_bucket_low2: abTest[tbl_bucket_low; 2; 0; 0.8]\n",
    "tbl_bucket_med2: abTest[tbl_bucket_med; 2; 0; 0.8]\n",
    "tbl_bucket_high2:abTest[tbl_bucket_high; 2; 0; 0.8]\n",
    "\n",
    "num2: count select from tbl_bucket_low2 where selected_strat = 2\n",
    "num0: count select from tbl_bucket_low2 where selected_strat = 0\n",
    "num2 % (num2+num0) / almost 80%\n",
    "\n",
    "num2: count select from tbl_bucket_med2 where selected_strat = 2\n",
    "num0: count select from tbl_bucket_med2 where selected_strat = 0\n",
    "num2 % (num2+num0) / almost 80%\n",
    "\n",
    "num2: count select from tbl_bucket_high2 where selected_strat = 2\n",
    "num0: count select from tbl_bucket_high2 where selected_strat = 0\n",
    "num2 % (num2+num0) / almost 80%"
   ]
  },
  {
   "cell_type": "markdown",
   "metadata": {},
   "source": [
    "We can see for three bucket, their ratios are almost 80%"
   ]
  },
  {
   "cell_type": "markdown",
   "metadata": {},
   "source": [
    "## Q2\n",
    "### 2.1"
   ]
  },
  {
   "cell_type": "markdown",
   "metadata": {},
   "source": [
    "PnL formula for each time take is:\n",
    "$$\n",
    "\\left(\\frac{S_{t_n}}{S_{t_{n-1}}}-1\\right) Q_{t_{n-1}}-\\frac{1}{2}\\left(I_{t_{n-1-}}+I_{t_{n-1}}\\right) \\Delta Q_{t_{n-1}}\n",
    "$$"
   ]
  },
  {
   "cell_type": "code",
   "execution_count": 44,
   "metadata": {},
   "outputs": [
    {
     "data": {
      "text/plain": [
       "date       time     id PnL       dQ        selected_strat indicator trade    ..\n",
       "-----------------------------------------------------------------------------..\n",
       "2019.01.03 09:30:00 0                      2              0         454071.8 ..\n",
       "2019.01.03 09:30:10 0            25895.41  2              0         -171833.3..\n",
       "2019.01.03 09:30:20 0  51.23226  3629.593  2              0         -301.2193..\n",
       "2019.01.03 09:30:30 0  34.43902  -24283.85 2              0         -78884.65..\n",
       "2019.01.03 09:30:40 0  -87.2153  14748.87  2              0         -24705.54..\n",
       "2019.01.03 09:30:50 0  47.0191   -68415.21 2              0         -92166.19..\n",
       "2019.01.03 09:31:00 0  -228.299  43115.02  2              0         -22823.01..\n",
       "2019.01.03 09:31:10 0  149.8138  8488.288  2              0         -4940.182..\n",
       "2019.01.03 09:31:20 0  29.50307  31202.43  2              0         -41691.88..\n",
       "2019.01.03 09:31:30 0  112.268   -12106.76 2              0         -539826.4..\n",
       "2019.01.03 09:31:40 0  -55.4977  52323.3   2              0         -53883.89..\n",
       "2019.01.03 09:31:50 0  191.6139  -53952.25 2              0         316896.2 ..\n",
       "2019.01.03 09:32:00 0  -124.538  -66038.06 2              0         8767.784 ..\n",
       "2019.01.03 09:32:10 0  -238.2968 3863.333  2              0         132407.8 ..\n",
       "2019.01.03 09:32:20 0  -70.0521  -73356.87 2              0         -52051.64..\n",
       "2019.01.03 09:32:30 0  -244.9967 -49069.09 2              0         441082.8 ..\n",
       "2019.01.03 09:32:40 0  -577.5716 -15843.61 2              0         -182.6154..\n",
       "2019.01.03 09:32:50 0  51.12527  -16093.74 2              0         4196.414 ..\n",
       "2019.01.03 09:33:00 0  -446.2973 -72329.37 2              0         112899.5 ..\n",
       "2019.01.03 09:33:10 0  -6.699297 44001     2              0         -51038.96..\n",
       "..\n"
      ]
     },
     "execution_count": 44,
     "metadata": {},
     "output_type": "execute_result"
    }
   ],
   "source": [
    "/ Define the function for PnL calculation\n",
    "prob: 0.8\n",
    "h: 60\n",
    "beta: (log 2) % h\n",
    "dt:1%6; / dt = 1/6 min\n",
    "\n",
    "computePnL:{[tbl] /set tbl as input\n",
    "    / Calculate I decay\n",
    "    tbl: update PnL_f: ((neg 1) + mid % (1 xprev mid)) * 1 xprev sums dQ,\n",
    "    PnL_IC: 0.5 * 1 xprev ( I + (1 xprev I) * exp neg beta*dt) * dQ by id from tbl;\n",
    "    tbl: update PnL: PnL_f - PnL_IC from tbl;\n",
    "    tbl: xcols [`date`time`id`PnL`dQ;tbl];\n",
    "    tbl\n",
    "    }\n",
    "\n",
    "/compute the sample PnL with date = 2019.01.03\n",
    "PnL: computePnL[tbl2]\n",
    "PnL"
   ]
  },
  {
   "cell_type": "code",
   "execution_count": 10,
   "metadata": {},
   "outputs": [
    {
     "data": {
      "text/plain": [
       "id| PnL       selected_strat\n",
       "--| ------------------------\n",
       "0 | -49488.16 2             \n",
       "1 | 9801.962  0             \n",
       "2 | -10841.65 0             \n",
       "3 | -13523.36 0             \n",
       "4 | -5993.29  0             \n",
       "5 | -9236.726 2             \n",
       "6 | -20684.62 2             \n",
       "7 | -5746.788 0             \n",
       "8 | -103157.6 2             \n",
       "9 | -33243.68 2             \n",
       "10| -23199.74 0             \n",
       "11| -13568.54 2             \n",
       "12| -16038.89 2             \n",
       "13| -3060     0             \n",
       "14| -510649.5 2             \n",
       "15| -16005.87 2             \n",
       "16| -197557.8 2             \n",
       "17| -15307.69 2             \n",
       "18| -4368.332 2             \n",
       "19| -97401.77 2             \n",
       "..\n"
      ]
     },
     "execution_count": 10,
     "metadata": {},
     "output_type": "execute_result"
    }
   ],
   "source": [
    "/show PnL of each stock and there selected strategy\n",
    "PnL_id: select sum PnL, first selected_strat by id from PnL\n",
    "PnL_id"
   ]
  },
  {
   "cell_type": "code",
   "execution_count": 11,
   "metadata": {},
   "outputs": [
    {
     "data": {
      "text/plain": [
       "selected_strat| average_PnL\n",
       "--------------| -----------\n",
       "0             | -16808.72  \n",
       "2             | -23561.84  \n"
      ]
     },
     "execution_count": 11,
     "metadata": {},
     "output_type": "execute_result"
    }
   ],
   "source": [
    "/show the average PnL of each strategy\n",
    "PnL_avg: select average_PnL: avg PnL by selected_strat from PnL_id\n",
    "PnL_avg"
   ]
  },
  {
   "cell_type": "markdown",
   "metadata": {},
   "source": [
    "Define the function for each day, the input is date"
   ]
  },
  {
   "cell_type": "code",
   "execution_count": 12,
   "metadata": {},
   "outputs": [
    {
     "data": {
      "text/plain": [
       "id date       daily_PnL adv          selected_strat\n",
       "---------------------------------------------------\n",
       "0  2019.01.03 -49488.16 1.122415e+08 2             \n",
       "1  2019.01.03 9801.962  3.607207e+07 0             \n",
       "2  2019.01.03 -10841.65 1.38682e+07  0             \n",
       "3  2019.01.03 -13523.36 1.192783e+07 0             \n",
       "4  2019.01.03 -5993.29  2.019054e+07 0             \n",
       "5  2019.01.03 -9236.726 7931115      2             \n",
       "6  2019.01.03 -20684.62 1.790894e+07 2             \n",
       "7  2019.01.03 -5746.788 9922401      0             \n",
       "8  2019.01.03 -103157.6 3.452761e+07 2             \n",
       "9  2019.01.03 -33243.68 1.862319e+07 2             \n",
       "10 2019.01.03 -23199.74 8.626539e+07 0             \n",
       "11 2019.01.03 -13568.54 5.807214e+07 2             \n",
       "12 2019.01.03 -16038.89 2.996236e+07 2             \n",
       "13 2019.01.03 -3060     1.538175e+07 0             \n",
       "14 2019.01.03 -510649.5 9.883369e+08 2             \n",
       "15 2019.01.03 -16005.87 7.305665e+07 2             \n",
       "16 2019.01.03 -197557.8 1.933401e+08 2             \n",
       "17 2019.01.03 -15307.69 8571269      2             \n",
       "18 2019.01.03 -4368.332 8691514      2             \n",
       "19 2019.01.03 -97401.77 1.143187e+08 2             \n",
       "..\n"
      ]
     },
     "execution_count": 12,
     "metadata": {},
     "output_type": "execute_result"
    }
   ],
   "source": [
    "h: 60\n",
    "beta: (log 2) % h\n",
    "dt:1%6; / dt = 1/6 min\n",
    "prob1: 0.8\n",
    "strat1: 2\n",
    "strat2: 0\n",
    "\\S 69 / set a random seed \n",
    "/combine the above process together to create computeFull function\n",
    "computeFull:{[d] /here date is the input\n",
    "            raw: select from bin10 where date = d;\n",
    "            raw: update reverse fills reverse date,\n",
    "                reverse fills reverse mid,\n",
    "                reverse fills reverse spread,\n",
    "                reverse fills reverse vol,\n",
    "                reverse fills reverse adv\n",
    "                by id from raw;\n",
    "\n",
    "            raw: update R: (neg 1) + (last mid) % mid by id from raw;\n",
    "            raw: update vol_R: sqrt var deltas0 R by id from raw;\n",
    "            raw: update W: vol_R * (0, sums u12[(count vol_R) - 1])  by id from raw;\n",
    "            raw: raw cross ([]rho: 0, .05, .3; []name: 0, 1, 2);\n",
    "\n",
    "            tbl: update alpha: createAlpha[rho;R; W] by id, rho from raw;\n",
    "            tbl: update alpha_2: 0^((alpha - xprev[60; alpha]) % 10) by id, rho from tbl;\n",
    "\n",
    "            tbl_impact: update I: computeImpact[alpha; alpha_2] by id, rho from tbl;\n",
    "            tbl_impact: update I_p:  (1 xprev I) * (exp neg beta*dt) by id, rho from tbl_impact;\n",
    "\n",
    "            tbl_dQ: update dQ: computeTrade[adv; vol; I; I_p] by id, rho from tbl_impact;\n",
    "\n",
    "            tbl2: abTest[tbl_dQ; strat1; strat2; prob1];\n",
    "            PnL_sec: computePnL[tbl2];\n",
    "            PnL: 0!select first date, daily_PnL: sum PnL, first adv, first selected_strat by id from PnL_sec;\n",
    "            PnL}\n",
    "\n",
    "tbl3: computeFull[2019.01.03]\n",
    "tbl3"
   ]
  },
  {
   "cell_type": "markdown",
   "metadata": {},
   "source": [
    "### The speed of running full year data is too slow, so here I just run first 60 days(about two months) to show my result"
   ]
  },
  {
   "cell_type": "code",
   "execution_count": 13,
   "metadata": {},
   "outputs": [
    {
     "data": {
      "text/plain": [
       "id date       daily_PnL adv          selected_strat\n",
       "---------------------------------------------------\n",
       "0  2019.01.02 32.81116  1.161895e+07 2             \n",
       "1  2019.01.02 -17858.3  4.081003e+07 0             \n",
       "2  2019.01.02 -5928.454 1.052341e+07 0             \n",
       "3  2019.01.02 1129.518  6987232      0             \n",
       "4  2019.01.02 1781.638  1.907262e+07 0             \n",
       "5  2019.01.02 9802.122  2.222419e+07 2             \n",
       "6  2019.01.02 2085.378  1.009195e+07 2             \n",
       "7  2019.01.02 -26076.15 2.039854e+07 0             \n",
       "8  2019.01.02 4382.17   2.821476e+07 2             \n",
       "9  2019.01.02 -10117.18 1.895952e+07 2             \n",
       "10 2019.01.02 -20978.37 5.362121e+07 0             \n",
       "11 2019.01.02 -10575.18 1.371147e+07 2             \n",
       "12 2019.01.02 -30436.72 4.953557e+07 2             \n",
       "13 2019.01.02 3320.057  1.092683e+07 0             \n",
       "14 2019.01.02 -2780.094 1.145875e+07 2             \n",
       "15 2019.01.02 -7954.794 2.327105e+07 2             \n",
       "16 2019.01.02 -4654.495 1.236677e+07 2             \n",
       "17 2019.01.02 10833.33  1.599064e+07 2             \n",
       "18 2019.01.02 -5360.741 7045968      2             \n",
       "19 2019.01.02 -8477.576 9231475      2             \n",
       "..\n"
      ]
     },
     "execution_count": 13,
     "metadata": {},
     "output_type": "execute_result"
    }
   ],
   "source": [
    "\\S 69 / set a random seed \n",
    "/ read all dates and select the first 60 dates\n",
    "date_list: \"D\"$system \"ls ../columbiaHdb\"\n",
    "tbl_full: raze computeFull each date_list til 60\n",
    "tbl_full"
   ]
  },
  {
   "cell_type": "code",
   "execution_count": 14,
   "metadata": {},
   "outputs": [
    {
     "data": {
      "text/plain": [
       "date      | average_PnL\n",
       "----------| -----------\n",
       "2019.01.02| -14270.65  \n",
       "2019.01.03| -28655.29  \n",
       "2019.01.04| -23889.76  \n",
       "2019.01.07| -18413.55  \n",
       "2019.01.08| -19302.6   \n",
       "2019.01.09| 3.992989   \n",
       "2019.01.10| -12730.29  \n",
       "2019.01.11| -12264.39  \n",
       "2019.01.14| -11864.05  \n",
       "2019.01.15| -11948.11  \n",
       "2019.01.16| -10393.86  \n",
       "2019.01.17| -8959.517  \n",
       "2019.01.18| -14361.67  \n",
       "2019.01.22| -19400.2   \n",
       "2019.01.23| -11880.1   \n",
       "2019.01.24| -17107.73  \n",
       "2019.01.25| -15271.38  \n",
       "2019.01.28| -14686.95  \n",
       "2019.01.29| -12492.6   \n",
       "2019.01.30| -12952.02  \n",
       "..\n"
      ]
     },
     "execution_count": 14,
     "metadata": {},
     "output_type": "execute_result"
    }
   ],
   "source": [
    "/show the average PnL of stocks of strat = 2\n",
    "PnL_st1: select average_PnL: avg daily_PnL by date from tbl_full where selected_strat = 2\n",
    "PnL_st1"
   ]
  },
  {
   "cell_type": "code",
   "execution_count": 15,
   "metadata": {},
   "outputs": [
    {
     "data": {
      "text/plain": [
       "date      | average_PnL\n",
       "----------| -----------\n",
       "2019.01.02| -16744.16  \n",
       "2019.01.03| -22859.36  \n",
       "2019.01.04| -14187.68  \n",
       "2019.01.07| -27797.47  \n",
       "2019.01.08| -18030.32  \n",
       "2019.01.09| 4.745304   \n",
       "2019.01.10| -14515.66  \n",
       "2019.01.11| -7695.718  \n",
       "2019.01.14| -11261.56  \n",
       "2019.01.15| -20893.57  \n",
       "2019.01.16| -8351.607  \n",
       "2019.01.17| -12147.43  \n",
       "2019.01.18| -10713.14  \n",
       "2019.01.22| -14757.21  \n",
       "2019.01.23| -11216.59  \n",
       "2019.01.24| -9805.661  \n",
       "2019.01.25| -9851.242  \n",
       "2019.01.28| -17720.03  \n",
       "2019.01.29| -7874.248  \n",
       "2019.01.30| -14688.03  \n",
       "..\n"
      ]
     },
     "execution_count": 15,
     "metadata": {},
     "output_type": "execute_result"
    }
   ],
   "source": [
    "/show the average PnL of stocks of strat = 0\n",
    "\n",
    "PnL_st2: select average_PnL: avg daily_PnL by date from tbl_full where selected_strat = 0\n",
    "PnL_st2"
   ]
  },
  {
   "cell_type": "code",
   "execution_count": 16,
   "metadata": {},
   "outputs": [
    {
     "data": {
      "text/plain": [
       "selected_strat| average_PnL\n",
       "--------------| -----------\n",
       "0             | -11789.78  \n",
       "2             | -11163.8   \n"
      ]
     },
     "execution_count": 16,
     "metadata": {},
     "output_type": "execute_result"
    }
   ],
   "source": [
    "PnL_summary: select average_PnL: avg daily_PnL by selected_strat from tbl_full\n",
    "PnL_summary"
   ]
  },
  {
   "cell_type": "markdown",
   "metadata": {},
   "source": [
    "#### Show the data when we clean the 2019.01.09"
   ]
  },
  {
   "cell_type": "code",
   "execution_count": 17,
   "metadata": {},
   "outputs": [
    {
     "data": {
      "text/plain": [
       "selected_strat| average_PnL\n",
       "--------------| -----------\n",
       "0             | -11986.23  \n",
       "2             | -11354.17  \n"
      ]
     },
     "execution_count": 17,
     "metadata": {},
     "output_type": "execute_result"
    }
   ],
   "source": [
    "select average_PnL: avg daily_PnL by selected_strat from tbl_full where date <> 2019.01.09"
   ]
  },
  {
   "cell_type": "markdown",
   "metadata": {},
   "source": [
    "### 2.2"
   ]
  },
  {
   "cell_type": "code",
   "execution_count": 18,
   "metadata": {},
   "outputs": [
    {
     "data": {
      "text/plain": [
       "date       selected_strat| t_test    \n",
       "-------------------------| ----------\n",
       "2019.01.02 0             | -0.8921255\n",
       "2019.01.02 2             | -0.9875145\n",
       "2019.01.03 0             | -0.8941804\n",
       "2019.01.03 2             | -0.900038 \n",
       "2019.01.04 0             | -0.9415085\n",
       "2019.01.04 2             | -1.030673 \n",
       "2019.01.07 0             | -1.144546 \n",
       "2019.01.07 2             | -1.035731 \n",
       "2019.01.08 0             | -0.8962512\n",
       "2019.01.08 2             | -0.8992952\n",
       "2019.01.09 0             | 0.05719319\n",
       "2019.01.09 2             | 0.1425226 \n",
       "2019.01.10 0             | -0.6266972\n",
       "2019.01.10 2             | -0.666487 \n",
       "2019.01.11 0             | -0.8176585\n",
       "2019.01.11 2             | -0.9808746\n",
       "2019.01.14 0             | -0.7889831\n",
       "2019.01.14 2             | -0.9578838\n",
       "2019.01.15 0             | -0.89578  \n",
       "2019.01.15 2             | -0.8112435\n",
       "..\n"
      ]
     },
     "execution_count": 18,
     "metadata": {},
     "output_type": "execute_result"
    }
   ],
   "source": [
    "/update suitably normalized units PnL/adv\n",
    "tbl_full: update norm_pnl: daily_PnL % adv from tbl_full\n",
    "/compute the t test\n",
    "PnL_summary1: select t_test: (avg norm_pnl) % dev norm_pnl by date, selected_strat from tbl_full\n",
    "PnL_summary1"
   ]
  },
  {
   "cell_type": "markdown",
   "metadata": {},
   "source": [
    "### 2.3"
   ]
  },
  {
   "cell_type": "code",
   "execution_count": 19,
   "metadata": {},
   "outputs": [
    {
     "data": {
      "text/plain": [
       "id date       daily_PnL adv          selected_strat norm_pnl      month\n",
       "-----------------------------------------------------------------------\n",
       "0  2019.01.02 32.81116  1.161895e+07 2              2.823935e-06  1    \n",
       "1  2019.01.02 -17858.3  4.081003e+07 0              -0.0004375959 1    \n",
       "2  2019.01.02 -5928.454 1.052341e+07 0              -0.0005633588 1    \n",
       "3  2019.01.02 1129.518  6987232      0              0.0001616546  1    \n",
       "4  2019.01.02 1781.638  1.907262e+07 0              9.341337e-05  1    \n",
       "5  2019.01.02 9802.122  2.222419e+07 2              0.0004410564  1    \n",
       "6  2019.01.02 2085.378  1.009195e+07 2              0.0002066377  1    \n",
       "7  2019.01.02 -26076.15 2.039854e+07 0              -0.001278335  1    \n",
       "8  2019.01.02 4382.17   2.821476e+07 2              0.0001553148  1    \n",
       "9  2019.01.02 -10117.18 1.895952e+07 2              -0.0005336199 1    \n",
       "10 2019.01.02 -20978.37 5.362121e+07 0              -0.0003912326 1    \n",
       "11 2019.01.02 -10575.18 1.371147e+07 2              -0.0007712656 1    \n",
       "12 2019.01.02 -30436.72 4.953557e+07 2              -0.0006144417 1    \n",
       "13 2019.01.02 3320.057  1.092683e+07 0              0.0003038443  1    \n",
       "14 2019.01.02 -2780.094 1.145875e+07 2              -0.0002426175 1    \n",
       "15 2019.01.02 -7954.794 2.327105e+07 2              -0.0003418321 1    \n",
       "16 2019.01.02 -4654.495 1.236677e+07 2              -0.0003763712 1    \n",
       "17 2019.01.02 10833.33  1.599064e+07 2              0.0006774793  1    \n",
       "18 2019.01.02 -5360.741 7045968      2              -0.0007608238 1    \n",
       "19 2019.01.02 -8477.576 9231475      2              -0.0009183339 1    \n",
       "..\n"
      ]
     },
     "execution_count": 19,
     "metadata": {},
     "output_type": "execute_result"
    }
   ],
   "source": [
    "/update the month \n",
    "tbl_full: update month: `mm$date from tbl_full\n",
    "tbl_full"
   ]
  },
  {
   "cell_type": "code",
   "execution_count": 20,
   "metadata": {},
   "outputs": [
    {
     "data": {
      "text/plain": [
       "month selected_strat| t_test    \n",
       "--------------------| ----------\n",
       "1     0             | -0.7780392\n",
       "1     2             | -0.7703299\n",
       "2     0             | -0.7752334\n",
       "2     2             | -0.6969488\n",
       "3     0             | -0.7631824\n",
       "3     2             | -0.6482981\n"
      ]
     },
     "execution_count": 20,
     "metadata": {},
     "output_type": "execute_result"
    }
   ],
   "source": [
    "/here I just use the first 60 days data because of calculation speed\n",
    "PnL_summary1: select t_test: (avg norm_pnl) % dev norm_pnl by month, selected_strat from tbl_full\n",
    "PnL_summary1"
   ]
  },
  {
   "cell_type": "markdown",
   "metadata": {},
   "source": [
    "### 2.4"
   ]
  },
  {
   "cell_type": "code",
   "execution_count": 21,
   "metadata": {},
   "outputs": [],
   "source": [
    "/set x as the input for calculating different prob\n",
    "/the first element of x is date\n",
    "/the second element of x is prob\n",
    "computeFull2:{[x]\n",
    "            d: x 0;\n",
    "            prob1: x 1;\n",
    "            raw: select from bin10 where date = d;\n",
    "            raw: update reverse fills reverse date,\n",
    "                reverse fills reverse mid,\n",
    "                reverse fills reverse spread,\n",
    "                reverse fills reverse vol,\n",
    "                reverse fills reverse adv\n",
    "                by id from raw;\n",
    "\n",
    "            raw: update R: (neg 1) + (last mid) % mid by id from raw;\n",
    "            raw: update vol_R: sqrt var deltas0 R by id from raw;\n",
    "            raw: update W: vol_R * (0, sums u12[(count vol_R) - 1])  by id from raw;\n",
    "            raw: raw cross ([]rho: 0, .05, .3; []name: 0, 1, 2);\n",
    "\n",
    "            tbl: update alpha: createAlpha[rho;R; W] by id, rho from raw;\n",
    "            tbl: update alpha_2: 0^((alpha - xprev[60; alpha]) % 10) by id, rho from tbl;\n",
    "\n",
    "            tbl_impact: update I: computeImpact[alpha; alpha_2] by id, rho from tbl;\n",
    "            tbl_impact: update I_p:  (1 xprev I) * (exp neg beta*dt) by id, rho from tbl_impact;\n",
    "\n",
    "            tbl_dQ: update dQ: computeTrade[adv; vol; I; I_p] by id, rho from tbl_impact;\n",
    "\n",
    "            tbl2: abTest[tbl_dQ; strat1; strat2; prob1];\n",
    "            PnL_sec: computePnL[tbl2];\n",
    "            PnL: 0!select first date, daily_PnL: sum PnL, first adv, first selected_strat by id from PnL_sec;\n",
    "            PnL: update prob: prob1 from PnL;\n",
    "            PnL}\n"
   ]
  },
  {
   "cell_type": "code",
   "execution_count": 22,
   "metadata": {},
   "outputs": [
    {
     "data": {
      "text/plain": [
       "id date       daily_PnL adv          selected_strat prob\n",
       "--------------------------------------------------------\n",
       "0  2019.01.02 -4445.331 1.161895e+07 0              0.1 \n",
       "1  2019.01.02 -17075.9  4.081003e+07 0              0.1 \n",
       "2  2019.01.02 -15271.89 1.052341e+07 0              0.1 \n",
       "3  2019.01.02 -7485.654 6987232      0              0.1 \n",
       "4  2019.01.02 -17021.23 1.907262e+07 0              0.1 \n",
       "5  2019.01.02 -3912.196 2.222419e+07 0              0.1 \n",
       "6  2019.01.02 -12532.16 1.009195e+07 2              0.1 \n",
       "7  2019.01.02 -30791.05 2.039854e+07 0              0.1 \n",
       "8  2019.01.02 -21595.43 2.821476e+07 0              0.1 \n",
       "9  2019.01.02 3513.87   1.895952e+07 0              0.1 \n",
       "10 2019.01.02 -40343.47 5.362121e+07 0              0.1 \n",
       "11 2019.01.02 1412.019  1.371147e+07 0              0.1 \n",
       "12 2019.01.02 -44875.18 4.953557e+07 0              0.1 \n",
       "13 2019.01.02 -15508.71 1.092683e+07 0              0.1 \n",
       "14 2019.01.02 -2597.777 1.145875e+07 0              0.1 \n",
       "15 2019.01.02 -8289.884 2.327105e+07 0              0.1 \n",
       "16 2019.01.02 -13789.38 1.236677e+07 0              0.1 \n",
       "17 2019.01.02 -1738.535 1.599064e+07 0              0.1 \n",
       "18 2019.01.02 4186.231  7045968      0              0.1 \n",
       "19 2019.01.02 -14648.61 9231475      0              0.1 \n",
       "..\n"
      ]
     },
     "execution_count": 22,
     "metadata": {},
     "output_type": "execute_result"
    }
   ],
   "source": [
    "/I only input the first 10 dates, beacuse running whole dates with each prob is too slow\n",
    "prob_list :0.1,0.2,0.3,0.4,0.5,0.6,0.7,0.8,0.9\n",
    "new: cross[10#date_list; prob_list]\n",
    "PnL2: raze computeFull2 each new\n",
    "PnL2"
   ]
  },
  {
   "cell_type": "code",
   "execution_count": 23,
   "metadata": {},
   "outputs": [
    {
     "data": {
      "text/plain": [
       "date      | daily_PnL\n",
       "----------| ---------\n",
       "2019.01.02| -17841.59\n",
       "2019.01.03| -25010.85\n",
       "2019.01.04| -19945.66\n",
       "2019.01.07| -17961.69\n",
       "2019.01.08| -18066.03\n",
       "2019.01.09| 0.9026281\n",
       "2019.01.10| -13285.38\n",
       "2019.01.11| -11595.83\n",
       "2019.01.14| -10061.48\n",
       "2019.01.15| -13101.77\n"
      ]
     },
     "execution_count": 23,
     "metadata": {},
     "output_type": "execute_result"
    }
   ],
   "source": [
    "/ Daily PNL for AB TEST by different date\n",
    "select avg daily_PnL by date from PnL2"
   ]
  },
  {
   "cell_type": "code",
   "execution_count": 24,
   "metadata": {},
   "outputs": [
    {
     "data": {
      "text/plain": [
       "prob| daily_PnL\n",
       "----| ---------\n",
       "0.1 | -15523.03\n",
       "0.2 | -14556.29\n",
       "0.3 | -14188.46\n",
       "0.4 | -14619.63\n",
       "0.5 | -14474.95\n",
       "0.6 | -14706.61\n",
       "0.7 | -13973.6 \n",
       "0.8 | -15956.97\n",
       "0.9 | -14182.9 \n"
      ]
     },
     "execution_count": 24,
     "metadata": {},
     "output_type": "execute_result"
    }
   ],
   "source": [
    "/ Daily PNL for AB TEST by different prob\n",
    "select avg daily_PnL by prob from PnL2"
   ]
  },
  {
   "cell_type": "code",
   "execution_count": 25,
   "metadata": {},
   "outputs": [
    {
     "data": {
      "text/plain": [
       "date       selected_strat prob| t_test    \n",
       "------------------------------| ----------\n",
       "2019.01.02 0              0.1 | -0.8994509\n",
       "2019.01.02 0              0.2 | -0.8958165\n",
       "2019.01.02 0              0.3 | -0.8808583\n",
       "2019.01.02 0              0.4 | -0.9317917\n",
       "2019.01.02 0              0.5 | -0.779415 \n",
       "2019.01.02 0              0.6 | -0.9600456\n",
       "2019.01.02 0              0.7 | -0.9026048\n",
       "2019.01.02 0              0.8 | -0.9454451\n",
       "2019.01.02 0              0.9 | -0.8800735\n",
       "2019.01.02 2              0.1 | -1.376666 \n",
       "2019.01.02 2              0.2 | -1.098733 \n",
       "2019.01.02 2              0.3 | -0.8816674\n",
       "2019.01.02 2              0.4 | -1.093655 \n",
       "2019.01.02 2              0.5 | -0.9117851\n",
       "2019.01.02 2              0.6 | -0.7869951\n",
       "2019.01.02 2              0.7 | -0.9149238\n",
       "2019.01.02 2              0.8 | -0.92538  \n",
       "2019.01.02 2              0.9 | -0.8820795\n",
       "2019.01.03 0              0.1 | -0.8580996\n",
       "2019.01.03 0              0.2 | -0.8789021\n",
       "..\n"
      ]
     },
     "execution_count": 25,
     "metadata": {},
     "output_type": "execute_result"
    }
   ],
   "source": [
    "/normalize and show t-test\n",
    "PnL2: update norm_pnl: daily_PnL % adv from PnL2\n",
    "select t_test: (avg norm_pnl) % dev norm_pnl by date, selected_strat, prob from PnL2"
   ]
  },
  {
   "cell_type": "markdown",
   "metadata": {},
   "source": [
    "Comment : when using A&B test, a higher PnL is an important indicator of better performance. Also, we want to ensure that the reason of difference in PnL is randomness. Thus both PnL and uncertainty are our important indicator, so there is a trade-off."
   ]
  },
  {
   "cell_type": "markdown",
   "metadata": {},
   "source": [
    "### 2.5\n",
    "#### PnL for strat 1 and 0 \n",
    "#### similar process like 2.4, but in each function, I change the name of strat1 and strat2"
   ]
  },
  {
   "cell_type": "code",
   "execution_count": 26,
   "metadata": {},
   "outputs": [],
   "source": [
    "computeFull2_10:{[x]\n",
    "            d: x 0;\n",
    "            prob1: x 1;\n",
    "            raw: select from bin10 where date = d;\n",
    "            raw: update reverse fills reverse date,\n",
    "                reverse fills reverse mid,\n",
    "                reverse fills reverse spread,\n",
    "                reverse fills reverse vol,\n",
    "                reverse fills reverse adv\n",
    "                by id from raw;\n",
    "\n",
    "            raw: update R: (neg 1) + (last mid) % mid by id from raw;\n",
    "            raw: update vol_R: sqrt var deltas0 R by id from raw;\n",
    "            raw: update W: vol_R * (0, sums u12[(count vol_R) - 1])  by id from raw;\n",
    "            raw: raw cross ([]rho: 0, .05, .3; []name: 0, 1, 2);\n",
    "\n",
    "            tbl: update alpha: createAlpha[rho;R; W] by id, rho from raw;\n",
    "            tbl: update alpha_2: 0^((alpha - xprev[60; alpha]) % 10) by id, rho from tbl;\n",
    "\n",
    "            tbl_impact: update I: computeImpact[alpha; alpha_2] by id, rho from tbl;\n",
    "            tbl_impact: update I_p:  (1 xprev I) * (exp neg beta*dt) by id, rho from tbl_impact;\n",
    "\n",
    "            tbl_dQ: update dQ: computeTrade[adv; vol; I; I_p] by id, rho from tbl_impact;\n",
    "\n",
    "            tbl2: abTest[tbl_dQ; strat1:1; strat2:0; prob1];\n",
    "            PnL_sec: computePnL[tbl2];\n",
    "            PnL: 0!select first date, daily_PnL: sum PnL, first adv, first selected_strat by id from PnL_sec;\n",
    "            PnL: update prob: prob1 from PnL;\n",
    "            PnL}\n"
   ]
  },
  {
   "cell_type": "code",
   "execution_count": 27,
   "metadata": {},
   "outputs": [
    {
     "data": {
      "text/plain": [
       "id date       daily_PnL adv          selected_strat prob\n",
       "--------------------------------------------------------\n",
       "0  2019.01.02 -15493.54 1.161895e+07 1              0.1 \n",
       "1  2019.01.02 -19158.37 4.081003e+07 1              0.1 \n",
       "2  2019.01.02 -6408.551 1.052341e+07 0              0.1 \n",
       "3  2019.01.02 -2332.197 6987232      1              0.1 \n",
       "4  2019.01.02 -7335.498 1.907262e+07 0              0.1 \n",
       "5  2019.01.02 6406.381  2.222419e+07 0              0.1 \n",
       "6  2019.01.02 -5210.467 1.009195e+07 0              0.1 \n",
       "7  2019.01.02 1713.392  2.039854e+07 0              0.1 \n",
       "8  2019.01.02 -43792.11 2.821476e+07 0              0.1 \n",
       "9  2019.01.02 -37791.08 1.895952e+07 0              0.1 \n",
       "10 2019.01.02 -30473.7  5.362121e+07 0              0.1 \n",
       "11 2019.01.02 -16061.91 1.371147e+07 0              0.1 \n",
       "12 2019.01.02 -33756.03 4.953557e+07 1              0.1 \n",
       "13 2019.01.02 -24991.02 1.092683e+07 0              0.1 \n",
       "14 2019.01.02 -5655.198 1.145875e+07 0              0.1 \n",
       "15 2019.01.02 -25675.76 2.327105e+07 0              0.1 \n",
       "16 2019.01.02 -2338.139 1.236677e+07 0              0.1 \n",
       "17 2019.01.02 -18822.5  1.599064e+07 0              0.1 \n",
       "18 2019.01.02 -5294.587 7045968      0              0.1 \n",
       "19 2019.01.02 -16753.99 9231475      0              0.1 \n",
       "..\n"
      ]
     },
     "execution_count": 27,
     "metadata": {},
     "output_type": "execute_result"
    }
   ],
   "source": [
    "PnL2_10: raze computeFull2_10 each new\n",
    "PnL2_10"
   ]
  },
  {
   "cell_type": "code",
   "execution_count": 37,
   "metadata": {},
   "outputs": [
    {
     "data": {
      "text/plain": [
       "date       selected_strat| daily_PnL\n",
       "-------------------------| ---------\n",
       "2019.01.02 0             | -18619.24\n",
       "2019.01.02 1             | -17676.96\n",
       "2019.01.03 0             | -22753.75\n",
       "2019.01.03 1             | -21419.29\n",
       "2019.01.04 0             | -21296.14\n",
       "2019.01.04 1             | -20281.22\n",
       "2019.01.07 0             | -18262.45\n",
       "2019.01.07 1             | -17990.8 \n",
       "2019.01.08 0             | -17624.23\n",
       "2019.01.08 1             | -15888.83\n",
       "2019.01.09 0             | 1.760901 \n",
       "2019.01.09 1             | 1.239092 \n",
       "2019.01.10 0             | -13113.26\n",
       "2019.01.10 1             | -14478.87\n",
       "2019.01.11 0             | -11227.39\n",
       "2019.01.11 1             | -11376.5 \n",
       "2019.01.14 0             | -10431.72\n",
       "2019.01.14 1             | -11681.46\n",
       "2019.01.15 0             | -13037.96\n",
       "2019.01.15 1             | -13138.64\n"
      ]
     },
     "execution_count": 37,
     "metadata": {},
     "output_type": "execute_result"
    }
   ],
   "source": [
    "/ Daily PNL for AB TEST by different date\n",
    "select avg daily_PnL by date, selected_strat from PnL2_10"
   ]
  },
  {
   "cell_type": "code",
   "execution_count": 38,
   "metadata": {},
   "outputs": [
    {
     "data": {
      "text/plain": [
       "prob selected_strat| daily_PnL\n",
       "-------------------| ---------\n",
       "0.1  0             | -15138.87\n",
       "0.1  1             | -13907.94\n",
       "0.2  0             | -13655.87\n",
       "0.2  1             | -14537.28\n",
       "0.3  0             | -13781.16\n",
       "0.3  1             | -14473.59\n",
       "0.4  0             | -14890.95\n",
       "0.4  1             | -13519.2 \n",
       "0.5  0             | -15061.71\n",
       "0.5  1             | -13884.92\n",
       "0.6  0             | -14733.66\n",
       "0.6  1             | -15933.08\n",
       "0.7  0             | -15428.7 \n",
       "0.7  1             | -15590.4 \n",
       "0.8  0             | -15940.8 \n",
       "0.8  1             | -13333.16\n",
       "0.9  0             | -15169.16\n",
       "0.9  1             | -14031.19\n"
      ]
     },
     "execution_count": 38,
     "metadata": {},
     "output_type": "execute_result"
    }
   ],
   "source": [
    "/ Daily PNL for AB TEST by different prob\n",
    "select avg daily_PnL by prob, selected_strat from PnL2_10"
   ]
  },
  {
   "cell_type": "code",
   "execution_count": 39,
   "metadata": {},
   "outputs": [
    {
     "data": {
      "text/plain": [
       "date       selected_strat prob| t_test    \n",
       "------------------------------| ----------\n",
       "2019.01.02 0              0.1 | -0.968187 \n",
       "2019.01.02 0              0.2 | -0.9638845\n",
       "2019.01.02 0              0.3 | -0.9156061\n",
       "2019.01.02 0              0.4 | -1.035783 \n",
       "2019.01.02 0              0.5 | -0.842138 \n",
       "2019.01.02 0              0.6 | -0.9815534\n",
       "2019.01.02 0              0.7 | -0.9481269\n",
       "2019.01.02 0              0.8 | -0.8573081\n",
       "2019.01.02 0              0.9 | -0.7570318\n",
       "2019.01.02 1              0.1 | -0.8126294\n",
       "2019.01.02 1              0.2 | -1.008909 \n",
       "2019.01.02 1              0.3 | -0.8664911\n",
       "2019.01.02 1              0.4 | -0.9736884\n",
       "2019.01.02 1              0.5 | -1.063558 \n",
       "2019.01.02 1              0.6 | -0.8325365\n",
       "2019.01.02 1              0.7 | -0.8692316\n",
       "2019.01.02 1              0.8 | -0.9168843\n",
       "2019.01.02 1              0.9 | -0.9815104\n",
       "2019.01.03 0              0.1 | -0.8889615\n",
       "2019.01.03 0              0.2 | -0.8237688\n",
       "..\n"
      ]
     },
     "execution_count": 39,
     "metadata": {},
     "output_type": "execute_result"
    }
   ],
   "source": [
    "/normalize and t-test\n",
    "PnL2_10: update norm_pnl: daily_PnL % adv from PnL2_10\n",
    "select t_test: (avg norm_pnl) % dev norm_pnl by date, selected_strat, prob from PnL2_10"
   ]
  },
  {
   "cell_type": "markdown",
   "metadata": {},
   "source": [
    "#### PnL for strat 1 and 2"
   ]
  },
  {
   "cell_type": "code",
   "execution_count": 31,
   "metadata": {},
   "outputs": [],
   "source": [
    "computeFull2_12:{[x]\n",
    "            d: x 0;\n",
    "            prob1: x 1;\n",
    "            raw: select from bin10 where date = d;\n",
    "            raw: update reverse fills reverse date,\n",
    "                reverse fills reverse mid,\n",
    "                reverse fills reverse spread,\n",
    "                reverse fills reverse vol,\n",
    "                reverse fills reverse adv\n",
    "                by id from raw;\n",
    "\n",
    "            raw: update R: (neg 1) + (last mid) % mid by id from raw;\n",
    "            raw: update vol_R: sqrt var deltas0 R by id from raw;\n",
    "            raw: update W: vol_R * (0, sums u12[(count vol_R) - 1])  by id from raw;\n",
    "            raw: raw cross ([]rho: 0, .05, .3; []name: 0, 1, 2);\n",
    "\n",
    "            tbl: update alpha: createAlpha[rho;R; W] by id, rho from raw;\n",
    "            tbl: update alpha_2: 0^((alpha - xprev[60; alpha]) % 10) by id, rho from tbl;\n",
    "\n",
    "            tbl_impact: update I: computeImpact[alpha; alpha_2] by id, rho from tbl;\n",
    "            tbl_impact: update I_p:  (1 xprev I) * (exp neg beta*dt) by id, rho from tbl_impact;\n",
    "\n",
    "            tbl_dQ: update dQ: computeTrade[adv; vol; I; I_p] by id, rho from tbl_impact;\n",
    "\n",
    "            tbl2: abTest[tbl_dQ; strat1:1; strat2:2; prob1];\n",
    "            PnL_sec: computePnL[tbl2];\n",
    "            PnL: 0!select first date, daily_PnL: sum PnL, first adv, first selected_strat by id from PnL_sec;\n",
    "            PnL: update prob: prob1 from PnL;\n",
    "            PnL}\n"
   ]
  },
  {
   "cell_type": "code",
   "execution_count": 32,
   "metadata": {},
   "outputs": [
    {
     "data": {
      "text/plain": [
       "id date       daily_PnL adv          selected_strat prob\n",
       "--------------------------------------------------------\n",
       "0  2019.01.02 -8052.386 1.161895e+07 2              0.1 \n",
       "1  2019.01.02 -41150.02 4.081003e+07 2              0.1 \n",
       "2  2019.01.02 -12784.53 1.052341e+07 2              0.1 \n",
       "3  2019.01.02 -9812.002 6987232      2              0.1 \n",
       "4  2019.01.02 -19967.42 1.907262e+07 2              0.1 \n",
       "5  2019.01.02 -112.1735 2.222419e+07 2              0.1 \n",
       "6  2019.01.02 -5541.945 1.009195e+07 2              0.1 \n",
       "7  2019.01.02 -8283.414 2.039854e+07 2              0.1 \n",
       "8  2019.01.02 -35727.51 2.821476e+07 2              0.1 \n",
       "9  2019.01.02 -41982.3  1.895952e+07 2              0.1 \n",
       "10 2019.01.02 -41862.76 5.362121e+07 2              0.1 \n",
       "11 2019.01.02 -29544.35 1.371147e+07 2              0.1 \n",
       "12 2019.01.02 -48717.87 4.953557e+07 2              0.1 \n",
       "13 2019.01.02 -25444.78 1.092683e+07 2              0.1 \n",
       "14 2019.01.02 -3680.278 1.145875e+07 2              0.1 \n",
       "15 2019.01.02 -11280.83 2.327105e+07 1              0.1 \n",
       "16 2019.01.02 -9396.857 1.236677e+07 2              0.1 \n",
       "17 2019.01.02 -17095.17 1.599064e+07 2              0.1 \n",
       "18 2019.01.02 -15240.04 7045968      2              0.1 \n",
       "19 2019.01.02 845.4473  9231475      2              0.1 \n",
       "..\n"
      ]
     },
     "execution_count": 32,
     "metadata": {},
     "output_type": "execute_result"
    }
   ],
   "source": [
    "PnL2_12: raze computeFull2_12 each new\n",
    "PnL2_12"
   ]
  },
  {
   "cell_type": "code",
   "execution_count": 40,
   "metadata": {},
   "outputs": [
    {
     "data": {
      "text/plain": [
       "date       selected_strat| daily_PnL\n",
       "-------------------------| ---------\n",
       "2019.01.02 1             | -18476.67\n",
       "2019.01.02 2             | -18636.8 \n",
       "2019.01.03 1             | -25317.28\n",
       "2019.01.03 2             | -24646.95\n",
       "2019.01.04 1             | -20693.6 \n",
       "2019.01.04 2             | -20605.66\n",
       "2019.01.07 1             | -17032.38\n",
       "2019.01.07 2             | -19396.39\n",
       "2019.01.08 1             | -17934.08\n",
       "2019.01.08 2             | -18335.74\n",
       "2019.01.09 1             | 1.809597 \n",
       "2019.01.09 2             | -2.895723\n",
       "2019.01.10 1             | -13434.35\n",
       "2019.01.10 2             | -12593.56\n",
       "2019.01.11 1             | -11663.98\n",
       "2019.01.11 2             | -12866.13\n",
       "2019.01.14 1             | -10679.8 \n",
       "2019.01.14 2             | -11534.53\n",
       "2019.01.15 1             | -13713.19\n",
       "2019.01.15 2             | -13640.64\n"
      ]
     },
     "execution_count": 40,
     "metadata": {},
     "output_type": "execute_result"
    }
   ],
   "source": [
    "/ Daily PNL for AB TEST by different date\n",
    "select avg daily_PnL by date, selected_strat from PnL2_12"
   ]
  },
  {
   "cell_type": "code",
   "execution_count": 41,
   "metadata": {},
   "outputs": [
    {
     "data": {
      "text/plain": [
       "prob selected_strat| daily_PnL\n",
       "-------------------| ---------\n",
       "0.1  1             | -10368.1 \n",
       "0.1  2             | -15781.63\n",
       "0.2  1             | -15901.88\n",
       "0.2  2             | -14842.1 \n",
       "0.3  1             | -16332.6 \n",
       "0.3  2             | -14951.97\n",
       "0.4  1             | -14104.9 \n",
       "0.4  2             | -15823.41\n",
       "0.5  1             | -13260.49\n",
       "0.5  2             | -15162.06\n",
       "0.6  1             | -15010.55\n",
       "0.6  2             | -15783.04\n",
       "0.7  1             | -13522.27\n",
       "0.7  2             | -15894.79\n",
       "0.8  1             | -15107.34\n",
       "0.8  2             | -12821.9 \n",
       "0.9  1             | -16733.01\n",
       "0.9  2             | -13453.31\n"
      ]
     },
     "execution_count": 41,
     "metadata": {},
     "output_type": "execute_result"
    }
   ],
   "source": [
    "/ Daily PNL for AB TEST by different prob\n",
    "select avg daily_PnL by prob, selected_strat from PnL2_12"
   ]
  },
  {
   "cell_type": "code",
   "execution_count": 42,
   "metadata": {},
   "outputs": [
    {
     "data": {
      "text/plain": [
       "date       selected_strat prob| t_test    \n",
       "------------------------------| ----------\n",
       "2019.01.02 1              0.1 | -1.212001 \n",
       "2019.01.02 1              0.2 | -1.025471 \n",
       "2019.01.02 1              0.3 | -0.88629  \n",
       "2019.01.02 1              0.4 | -0.9791942\n",
       "2019.01.02 1              0.5 | -0.8984949\n",
       "2019.01.02 1              0.6 | -0.9206355\n",
       "2019.01.02 1              0.7 | -1.054573 \n",
       "2019.01.02 1              0.8 | -0.8476881\n",
       "2019.01.02 1              0.9 | -0.8898475\n",
       "2019.01.02 2              0.1 | -0.9934356\n",
       "2019.01.02 2              0.2 | -0.919285 \n",
       "2019.01.02 2              0.3 | -0.927138 \n",
       "2019.01.02 2              0.4 | -0.9553886\n",
       "2019.01.02 2              0.5 | -1.001698 \n",
       "2019.01.02 2              0.6 | -1.083277 \n",
       "2019.01.02 2              0.7 | -1.036394 \n",
       "2019.01.02 2              0.8 | -1.107871 \n",
       "2019.01.02 2              0.9 | -0.8816891\n",
       "2019.01.03 1              0.1 | -0.8753394\n",
       "2019.01.03 1              0.2 | -0.8947444\n",
       "..\n"
      ]
     },
     "execution_count": 42,
     "metadata": {},
     "output_type": "execute_result"
    }
   ],
   "source": [
    "/normalize and t-test\n",
    "PnL2_12: update norm_pnl: daily_PnL % adv from PnL2_12\n",
    "select t_test: (avg norm_pnl) % dev norm_pnl by date, selected_strat, prob from PnL2_12"
   ]
  },
  {
   "cell_type": "markdown",
   "metadata": {},
   "source": [
    "Waiting time refers to the duration of experiments that is needed for a trader to tell one strategy is better than the other. Thus, as t-stats become bigger, the waiting time become lower beacuse of fewer samples which resulting in better alpha."
   ]
  }
 ],
 "metadata": {
  "kernelspec": {
   "display_name": "Q (kdb+)",
   "language": "q",
   "name": "qpk"
  },
  "language_info": {
   "file_extension": ".q",
   "mimetype": "text/x-q",
   "name": "q",
   "version": "4.0"
  }
 },
 "nbformat": 4,
 "nbformat_minor": 4
}
