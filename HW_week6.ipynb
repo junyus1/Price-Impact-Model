{
 "cells": [
  {
   "cell_type": "markdown",
   "metadata": {},
   "source": [
    "### Junyu Sui Js6130"
   ]
  },
  {
   "cell_type": "code",
   "execution_count": 1,
   "metadata": {},
   "outputs": [
    {
     "ename": "\u001b[0;31mtbl.csv\u001b[0m",
     "evalue": "\u001b[0;31mtbl.csv\u001b[0m",
     "output_type": "error",
     "traceback": [
      "\u001b[0;31mevaluation error:\n\u001b[0m",
      "\u001b[0;31mtbl.csv\u001b[0m",
      "\u001b[0;31m\u001b[0m",
      "\u001b[0;31m  [2]  (.Q.l@)\n\n\u001b[0m",
      "\u001b[0;31m  [1]  (.Q.l)\n\n\u001b[0m",
      "\u001b[0;31m  [0]  \\l /Users/suijunyu/Desktop/5440/week6/columbiaHdb\n       ^\n\u001b[0m"
     ]
    }
   ],
   "source": [
    "\\l /Users/suijunyu/Desktop/5440/week6/columbiaHdb"
   ]
  },
  {
   "cell_type": "markdown",
   "metadata": {},
   "source": [
    "### Q1"
   ]
  },
  {
   "cell_type": "code",
   "execution_count": 1,
   "metadata": {},
   "outputs": [],
   "source": [
    "computeImpact: {[trade; adv; vol; h] \n",
    "                beta: (log 2) % (h*6);\n",
    "                lamda: 1;\n",
    "                /here the time interval is 10s\n",
    "                dvol: vol * sqrt 2340;\n",
    "                :(neg count trade)#ema[beta; (0, lamda * dvol * trade % (beta * adv))];}\n",
    "\n",
    "prework:{[time]\n",
    "         h: 1, 5, 30, 60;\n",
    "         dt: 1, 15, 60;\n",
    "\n",
    "         tbl: select from bin10 where date = time;\n",
    "         tbl: update reverse fills reverse date,\n",
    "            reverse fills reverse mid,\n",
    "            reverse fills reverse spread,\n",
    "            reverse fills reverse vol,\n",
    "            reverse fills reverse adv\n",
    "            by id from tbl;\n",
    "\n",
    "\n",
    "         tbl: ([]h:h) cross tbl;\n",
    "         tbl: update Impact:computeImpact[trade;adv;vol; first h] by h, id from tbl;\n",
    "         tbl: ([]dt:dt) cross tbl;\n",
    "         tbl: update Return: (neg 1) + xprev[-6*dt; mid] % mid,\n",
    "             dI: xprev[-6*dt; Impact] + (neg Impact) \n",
    "             by dt, h, id from tbl;\n",
    "\n",
    "         tbl2: 0! select covariance: Return cov dI,\n",
    "             variance: var dI\n",
    "             \n",
    "/0! select\n",
    "             by date, id, h, dt from tbl;\n",
    "\n",
    "         :tbl2}"
   ]
  },
  {
   "cell_type": "markdown",
   "metadata": {},
   "source": [
    "### Q2"
   ]
  },
  {
   "cell_type": "code",
   "execution_count": 3,
   "metadata": {
    "scrolled": true
   },
   "outputs": [
    {
     "data": {
      "text/plain": [
       "2019.01.02 2019.01.03 2019.01.04 2019.01.07 2019.01.08 2019.01.09 2019.01.10 ..\n"
      ]
     },
     "execution_count": 3,
     "metadata": {},
     "output_type": "execute_result"
    }
   ],
   "source": [
    "date_list: \"D\"$system \"ls ../columbiaHdb\"\n",
    "date_list"
   ]
  },
  {
   "cell_type": "code",
   "execution_count": 42,
   "metadata": {},
   "outputs": [
    {
     "ename": "\u001b[0;31mstop\u001b[0m",
     "evalue": "\u001b[0;31mstop\u001b[0m",
     "output_type": "error",
     "traceback": [
      "\u001b[0;31mevaluation error:\n\u001b[0m",
      "\u001b[0;31mstop\u001b[0m",
      "\u001b[0;31m\u001b[0m",
      "\u001b[0;31m  [5]  (<q>)\n\n\u001b[0m",
      "\u001b[0;31m  [4]  (<q>)\n\n\u001b[0m",
      "\u001b[0;31m  [3]  (<q>)\n\n\u001b[0m",
      "\u001b[0;31m  [2]  prework:\n\n         tbl2: 0! select covariance: (Return * dI),\n                  ^\n             variance: (dI * dI)\n\u001b[0m",
      "\u001b[0;31m  [1]  (.q.peach)\n\n\u001b[0m",
      "\u001b[0;31m  [0]  tbl: raze prework peach date_list\n                         ^\n\u001b[0m"
     ]
    }
   ],
   "source": [
    "tbl: raze prework peach date_list\n",
    "tbl"
   ]
  },
  {
   "cell_type": "code",
   "execution_count": null,
   "metadata": {},
   "outputs": [],
   "source": [
    "prework[2019.01.02]"
   ]
  },
  {
   "cell_type": "code",
   "execution_count": 5,
   "metadata": {},
   "outputs": [
    {
     "data": {
      "text/plain": [
       "date       id h  dt| covariance    variance    \n",
       "-------------------| --------------------------\n",
       "2019.01.02 0  1  1 | 1.291666e-08  2.27897e-09 \n",
       "2019.01.02 0  1  15| 1.091796e-08  3.572573e-09\n",
       "2019.01.02 0  1  60| -3.716271e-08 3.983792e-09\n",
       "2019.01.02 0  5  1 | 1.902177e-08  2.61677e-09 \n",
       "2019.01.02 0  5  15| 5.669483e-08  1.166201e-08\n",
       "2019.01.02 0  5  60| -1.663225e-07 1.847794e-08\n",
       "2019.01.02 0  30 1 | 2.042277e-08  2.702151e-09\n",
       "2019.01.02 0  30 15| 1.322235e-07  2.620166e-08\n",
       "2019.01.02 0  30 60| -1.199866e-07 1.152586e-07\n",
       "2019.01.02 0  60 1 | 2.070544e-08  2.727237e-09\n",
       "2019.01.02 0  60 15| 1.797764e-07  3.208083e-08\n",
       "2019.01.02 0  60 60| 3.674884e-07  2.080575e-07\n",
       "2019.01.02 1  1  1 | 8.4395e-09    1.836283e-09\n",
       "2019.01.02 1  1  15| 9.864682e-09  3.783806e-09\n",
       "2019.01.02 1  1  60| 1.642204e-08  4.618595e-09\n",
       "2019.01.02 1  5  1 | 1.109461e-08  2.280781e-09\n",
       "2019.01.02 1  5  15| 4.30646e-08   2.366329e-08\n",
       "2019.01.02 1  5  60| 6.456077e-08  3.74671e-08 \n",
       "2019.01.02 1  30 1 | 1.193025e-08  2.596273e-09\n",
       "2019.01.02 1  30 15| 8.359584e-08  7.248018e-08\n",
       "..\n"
      ]
     },
     "execution_count": 5,
     "metadata": {},
     "output_type": "execute_result"
    }
   ],
   "source": [
    "tbl"
   ]
  },
  {
   "cell_type": "code",
   "execution_count": 25,
   "metadata": {},
   "outputs": [
    {
     "data": {
      "text/plain": [
       "date id h dt| covariance variance\n",
       "------------| -------------------\n"
      ]
     },
     "execution_count": 25,
     "metadata": {},
     "output_type": "execute_result"
    }
   ],
   "source": [
    "select from tbl where date = 2019.01.05"
   ]
  },
  {
   "cell_type": "code",
   "execution_count": 11,
   "metadata": {},
   "outputs": [
    {
     "data": {
      "text/plain": [
       "`:tbl.csv\n"
      ]
     },
     "execution_count": 11,
     "metadata": {},
     "output_type": "execute_result"
    }
   ],
   "source": [
    "save `tbl.csv\n",
    "read0 `:tbl.csv"
   ]
  },
  {
   "cell_type": "markdown",
   "metadata": {},
   "source": [
    "### Q3"
   ]
  },
  {
   "cell_type": "code",
   "execution_count": 38,
   "metadata": {},
   "outputs": [
    {
     "data": {
      "text/plain": [
       "dt h id date      | lamda     \n",
       "------------------| ----------\n",
       "1  1 0  2019.01.02| 5.667762  \n",
       "1  1 0  2019.01.03| 8.609779  \n",
       "1  1 0  2019.01.04| 6.669844  \n",
       "1  1 0  2019.01.07| 6.692883  \n",
       "1  1 0  2019.01.08| 4.330904  \n",
       "1  1 0  2019.01.09| 0.07960558\n",
       "1  1 0  2019.01.10| 2.921405  \n",
       "1  1 0  2019.01.11| 6.413965  \n",
       "1  1 0  2019.01.14| 5.568237  \n",
       "1  1 0  2019.01.15| 9.607331  \n",
       "1  1 0  2019.01.16| 4.553271  \n",
       "1  1 0  2019.01.17| 4.366359  \n",
       "1  1 0  2019.01.18| 8.949368  \n",
       "1  1 0  2019.01.22| 5.217344  \n",
       "1  1 0  2019.01.23| 4.004516  \n",
       "1  1 0  2019.01.24| 2.779407  \n",
       "1  1 0  2019.01.25| 2.258229  \n",
       "1  1 0  2019.01.28| 4.744983  \n",
       "1  1 0  2019.01.29| 5.663878  \n",
       "1  1 0  2019.01.30| 5.042453  \n",
       "..\n"
      ]
     },
     "execution_count": 38,
     "metadata": {},
     "output_type": "execute_result"
    }
   ],
   "source": [
    "lamda: select lamda: avg covariance % avg variance by dt, h, id, date from tbl;\n",
    "lamda"
   ]
  },
  {
   "cell_type": "code",
   "execution_count": 26,
   "metadata": {},
   "outputs": [
    {
     "data": {
      "text/plain": [
       "2019.01 2019.01 2019.01 2019.01 2019.01 2019.01 2019.01 2019.01 2019.01 2019...\n"
      ]
     },
     "execution_count": 26,
     "metadata": {},
     "output_type": "execute_result"
    }
   ],
   "source": [
    "date_list.month"
   ]
  },
  {
   "cell_type": "code",
   "execution_count": null,
   "metadata": {},
   "outputs": [],
   "source": []
  }
 ],
 "metadata": {
  "kernelspec": {
   "display_name": "Q (kdb+)",
   "language": "q",
   "name": "qpk"
  },
  "language_info": {
   "file_extension": ".q",
   "mimetype": "text/x-q",
   "name": "q",
   "version": "4.0"
  }
 },
 "nbformat": 4,
 "nbformat_minor": 4
}
